{
 "cells": [
  {
   "cell_type": "code",
   "execution_count": 1,
   "metadata": {
    "dotnet_interactive": {
     "language": "csharp"
    },
    "polyglot_notebook": {
     "kernelName": "csharp"
    },
    "vscode": {
     "languageId": "polyglot-notebook"
    }
   },
   "outputs": [
    {
     "data": {
      "text/html": [
       "<div><div></div><div></div><div><strong>Installed Packages</strong><ul><li><span>Microsoft.Extensions.Configuration, 8.0.0</span></li><li><span>Microsoft.Extensions.Configuration.Json, 8.0.0</span></li><li><span>Neo4j.Driver, 5.18.1</span></li></ul></div></div>"
      ]
     },
     "metadata": {},
     "output_type": "display_data"
    }
   ],
   "source": [
    "#r \"nuget: Microsoft.Extensions.Configuration\"\n",
    "#r \"nuget: Microsoft.Extensions.Configuration.Json\"\n",
    "#r \"nuget: Neo4j.Driver\"\n",
    "\n",
    "using Neo4j.Driver;\n",
    "using System.Text.Json;\n"
   ]
  },
  {
   "cell_type": "code",
   "execution_count": 2,
   "metadata": {
    "dotnet_interactive": {
     "language": "csharp"
    },
    "polyglot_notebook": {
     "kernelName": "csharp"
    },
    "vscode": {
     "languageId": "polyglot-notebook"
    }
   },
   "outputs": [],
   "source": [
    "#!import config/Config.cs"
   ]
  },
  {
   "cell_type": "code",
   "execution_count": 3,
   "metadata": {
    "dotnet_interactive": {
     "language": "csharp"
    },
    "polyglot_notebook": {
     "kernelName": "csharp"
    },
    "vscode": {
     "languageId": "polyglot-notebook"
    }
   },
   "outputs": [
    {
     "name": "stdout",
     "output_type": "stream",
     "text": [
      "Neo4j Uri neo4j://localhost:7687\n",
      "Neo4j User neo4j\n",
      "Neo4j Password marwhompa\n"
     ]
    }
   ],
   "source": [
    "Console.WriteLine($\"Neo4j Uri {Config.Neo4jUri}\");\n",
    "Console.WriteLine($\"Neo4j User {Config.Neo4jUser}\");\n",
    "Console.WriteLine($\"Neo4j Password {Config.Neo4jPassword}\");"
   ]
  },
  {
   "cell_type": "code",
   "execution_count": 4,
   "metadata": {
    "dotnet_interactive": {
     "language": "csharp"
    },
    "polyglot_notebook": {
     "kernelName": "csharp"
    },
    "vscode": {
     "languageId": "polyglot-notebook"
    }
   },
   "outputs": [],
   "source": [
    "var driver = GraphDatabase.Driver(Config.Neo4jUri, AuthTokens.Basic(Config.Neo4jUser, Config.Neo4jPassword));\n",
    "await driver.VerifyConnectivityAsync();"
   ]
  },
  {
   "cell_type": "markdown",
   "metadata": {},
   "source": [
    "## Working with Cypher Results"
   ]
  },
  {
   "cell_type": "markdown",
   "metadata": {},
   "source": [
    "### hello world!\n",
    "\n",
    "The simplest Cypher query is a `RETURN` clause that returns a string literal. This query returns the string \"Hello, World!\".\n",
    "\n",
    "Notice that the `Result` below contains two parts:\n",
    "\n",
    "1. `Result` showing the data returned by the query.\n",
    "2. `Summary` showing information about the query execution."
   ]
  },
  {
   "cell_type": "code",
   "execution_count": 5,
   "metadata": {
    "dotnet_interactive": {
     "language": "csharp"
    },
    "polyglot_notebook": {
     "kernelName": "csharp"
    },
    "vscode": {
     "languageId": "polyglot-notebook"
    }
   },
   "outputs": [
    {
     "data": {
      "text/html": [
       "<details open=\"open\" class=\"dni-treeview\"><summary><span class=\"dni-code-hint\"><code>Neo4j.Driver.EagerResult`1[System.Collections.Generic.IReadOnlyList`1[Neo4j.Driver.IRecord]]</code></span></summary><div><table><thead><tr></tr></thead><tbody><tr><td>Keys</td><td><div class=\"dni-plaintext\"><pre>[ message ]</pre></div></td></tr><tr><td>Result</td><td><table><thead><tr><th><i>index</i></th><th>value</th></tr></thead><tbody><tr><td>0</td><td><details class=\"dni-treeview\"><summary><span class=\"dni-code-hint\"><code>[ [message, hello world] ]</code></span></summary><div><table><thead><tr></tr></thead><tbody><tr><td>Keys</td><td><div class=\"dni-plaintext\"><pre>[ message ]</pre></div></td></tr><tr><td>Values</td><td><details class=\"dni-treeview\"><summary><span class=\"dni-code-hint\"><code>[ [message, hello world] ]</code></span></summary><div><table><thead><tr></tr></thead><tbody><tr><td>Keys</td><td><div class=\"dni-plaintext\"><pre>[ message ]</pre></div></td></tr><tr><td>Values</td><td><details class=\"dni-treeview\"><summary><span class=\"dni-code-hint\"><code>[ [message, hello world] ]</code></span></summary><div><table><thead><tr></tr></thead><tbody><tr><td>Keys</td><td><div class=\"dni-plaintext\"><pre>[ message ]</pre></div></td></tr><tr><td>Values</td><td><details class=\"dni-treeview\"><summary><span class=\"dni-code-hint\"><code>[ [message, hello world] ]</code></span></summary><div><table><thead><tr></tr></thead><tbody><tr><td>Keys</td><td>[ message ]</td></tr><tr><td>Values</td><td>[ [message, hello world] ]</td></tr><tr><td><i>(values)</i></td><td><table><thead><tr><th><i>index</i></th><th>value</th></tr></thead><tbody><tr><td>0</td><td>[message, hello world]</td></tr></tbody></table></td></tr></tbody></table></div></details></td></tr><tr><td><i>(values)</i></td><td><table><thead><tr><th><i>index</i></th><th>value</th></tr></thead><tbody><tr><td>0</td><td><details class=\"dni-treeview\"><summary><span class=\"dni-code-hint\"><code>[message, hello world]</code></span></summary><div><table><thead><tr></tr></thead><tbody><tr><td>Key</td><td>message</td></tr><tr><td>Value</td><td>hello world</td></tr></tbody></table></div></details></td></tr></tbody></table></td></tr></tbody></table></div></details></td></tr><tr><td><i>(values)</i></td><td><table><thead><tr><th><i>index</i></th><th>value</th></tr></thead><tbody><tr><td>0</td><td><details class=\"dni-treeview\"><summary><span class=\"dni-code-hint\"><code>[message, hello world]</code></span></summary><div><table><thead><tr></tr></thead><tbody><tr><td>Key</td><td><div class=\"dni-plaintext\"><pre>message</pre></div></td></tr><tr><td>Value</td><td><div class=\"dni-plaintext\"><pre>hello world</pre></div></td></tr></tbody></table></div></details></td></tr></tbody></table></td></tr></tbody></table></div></details></td></tr><tr><td><i>(values)</i></td><td><table><thead><tr><th><i>index</i></th><th>value</th></tr></thead><tbody><tr><td>0</td><td><details class=\"dni-treeview\"><summary><span class=\"dni-code-hint\"><code>[message, hello world]</code></span></summary><div><table><thead><tr></tr></thead><tbody><tr><td>Key</td><td><div class=\"dni-plaintext\"><pre>message</pre></div></td></tr><tr><td>Value</td><td><div class=\"dni-plaintext\"><pre>hello world</pre></div></td></tr></tbody></table></div></details></td></tr></tbody></table></td></tr></tbody></table></div></details></td></tr></tbody></table></td></tr><tr><td>Summary</td><td><details class=\"dni-treeview\"><summary><span class=\"dni-code-hint\"><code>ResultSummary{Query=`RETURN &#39;hello world&#39; as message`, [], Counters=Counters{NodesCreated=0, NodesDeleted=0, RelationshipsCreated=0, RelationshipsDeleted=0, PropertiesSet=0, LabelsAdded=0, LabelsRemoved=0, IndexesAdded=0, IndexesRemoved=0, ConstraintsAdded=0, ConstraintsRemoved=0, SystemUpdates=0}, ...</code></span></summary><div><table><thead><tr></tr></thead><tbody><tr><td>Query</td><td><details class=\"dni-treeview\"><summary><span class=\"dni-code-hint\"><code>`RETURN &#39;hello world&#39; as message`, []</code></span></summary><div><table><thead><tr></tr></thead><tbody><tr><td>Text</td><td><div class=\"dni-plaintext\"><pre>RETURN &#39;hello world&#39; as message</pre></div></td></tr><tr><td>Parameters</td><td><i>(empty)</i></td></tr></tbody></table></div></details></td></tr><tr><td>Counters</td><td><details class=\"dni-treeview\"><summary><span class=\"dni-code-hint\"><code>Counters{NodesCreated=0, NodesDeleted=0, RelationshipsCreated=0, RelationshipsDeleted=0, PropertiesSet=0, LabelsAdded=0, LabelsRemoved=0, IndexesAdded=0, IndexesRemoved=0, ConstraintsAdded=0, ConstraintsRemoved=0, SystemUpdates=0}</code></span></summary><div><table><thead><tr></tr></thead><tbody><tr><td>ContainsUpdates</td><td><div class=\"dni-plaintext\"><pre>False</pre></div></td></tr><tr><td>NodesCreated</td><td><div class=\"dni-plaintext\"><pre>0</pre></div></td></tr><tr><td>NodesDeleted</td><td><div class=\"dni-plaintext\"><pre>0</pre></div></td></tr><tr><td>RelationshipsCreated</td><td><div class=\"dni-plaintext\"><pre>0</pre></div></td></tr><tr><td>RelationshipsDeleted</td><td><div class=\"dni-plaintext\"><pre>0</pre></div></td></tr><tr><td>PropertiesSet</td><td><div class=\"dni-plaintext\"><pre>0</pre></div></td></tr><tr><td>LabelsAdded</td><td><div class=\"dni-plaintext\"><pre>0</pre></div></td></tr><tr><td>LabelsRemoved</td><td><div class=\"dni-plaintext\"><pre>0</pre></div></td></tr><tr><td>IndexesAdded</td><td><div class=\"dni-plaintext\"><pre>0</pre></div></td></tr><tr><td>IndexesRemoved</td><td><div class=\"dni-plaintext\"><pre>0</pre></div></td></tr><tr><td>ConstraintsAdded</td><td><div class=\"dni-plaintext\"><pre>0</pre></div></td></tr><tr><td>ConstraintsRemoved</td><td><div class=\"dni-plaintext\"><pre>0</pre></div></td></tr><tr><td>SystemUpdates</td><td><div class=\"dni-plaintext\"><pre>0</pre></div></td></tr><tr><td>ContainsSystemUpdates</td><td><div class=\"dni-plaintext\"><pre>False</pre></div></td></tr></tbody></table></div></details></td></tr><tr><td>QueryType</td><td><span>ReadOnly</span></td></tr><tr><td>HasPlan</td><td><div class=\"dni-plaintext\"><pre>False</pre></div></td></tr><tr><td>HasProfile</td><td><div class=\"dni-plaintext\"><pre>False</pre></div></td></tr><tr><td>Plan</td><td><div class=\"dni-plaintext\"><pre>&lt;null&gt;</pre></div></td></tr><tr><td>Profile</td><td><div class=\"dni-plaintext\"><pre>&lt;null&gt;</pre></div></td></tr><tr><td>Notifications</td><td><div class=\"dni-plaintext\"><pre>&lt;null&gt;</pre></div></td></tr><tr><td>ResultAvailableAfter</td><td><span>00:00:00.0050000</span></td></tr><tr><td>ResultConsumedAfter</td><td><span>00:00:00.0010000</span></td></tr><tr><td>Server</td><td><details class=\"dni-treeview\"><summary><span class=\"dni-code-hint\"><code>ServerInfo{Address=localhost:7687, Agent=Neo4j/5.16.0, ProtocolVersion=5.4}</code></span></summary><div><table><thead><tr></tr></thead><tbody><tr><td>ProtocolVersion</td><td><div class=\"dni-plaintext\"><pre>5.4</pre></div></td></tr><tr><td>Agent</td><td><div class=\"dni-plaintext\"><pre>Neo4j/5.16.0</pre></div></td></tr><tr><td>Address</td><td><div class=\"dni-plaintext\"><pre>localhost:7687</pre></div></td></tr></tbody></table></div></details></td></tr><tr><td>Database</td><td><details class=\"dni-treeview\"><summary><span class=\"dni-code-hint\"><code>Neo4j.Driver.Internal.Result.DatabaseInfo</code></span></summary><div><table><thead><tr></tr></thead><tbody><tr><td>Name</td><td><div class=\"dni-plaintext\"><pre>neo4j</pre></div></td></tr></tbody></table></div></details></td></tr></tbody></table></div></details></td></tr></tbody></table></div></details><style>\r\n",
       ".dni-code-hint {\r\n",
       "    font-style: italic;\r\n",
       "    overflow: hidden;\r\n",
       "    white-space: nowrap;\r\n",
       "}\r\n",
       ".dni-treeview {\r\n",
       "    white-space: nowrap;\r\n",
       "}\r\n",
       ".dni-treeview td {\r\n",
       "    vertical-align: top;\r\n",
       "    text-align: start;\r\n",
       "}\r\n",
       "details.dni-treeview {\r\n",
       "    padding-left: 1em;\r\n",
       "}\r\n",
       "table td {\r\n",
       "    text-align: start;\r\n",
       "}\r\n",
       "table tr { \r\n",
       "    vertical-align: top; \r\n",
       "    margin: 0em 0px;\r\n",
       "}\r\n",
       "table tr td pre \r\n",
       "{ \r\n",
       "    vertical-align: top !important; \r\n",
       "    margin: 0em 0px !important;\r\n",
       "} \r\n",
       "table th {\r\n",
       "    text-align: start;\r\n",
       "}\r\n",
       "</style>"
      ]
     },
     "metadata": {},
     "output_type": "display_data"
    }
   ],
   "source": [
    "driver.ExecutableQuery(\"RETURN 'hello world' as message\").ExecuteAsync().Result"
   ]
  },
  {
   "cell_type": "markdown",
   "metadata": {},
   "source": [
    "### Get specific result value\n",
    "\n",
    "The `Result.Result` is a list of IRecord objects. Each IRecord object contains a list of key-value pairs. You can access the value of a specific key by using either:\n",
    "\n",
    "1. `<T>Get(string key)` to cast the value to a specific type.\n",
    "2. `<T>As<T>(string key)` to cast the value to a specific type."
   ]
  },
  {
   "cell_type": "code",
   "execution_count": 6,
   "metadata": {
    "vscode": {
     "languageId": "polyglot-notebook"
    }
   },
   "outputs": [
    {
     "name": "stdout",
     "output_type": "stream",
     "text": [
      "Got message: hello world\n",
      "Got field: hello world\n",
      "Got field as: hello world\n"
     ]
    }
   ],
   "source": [
    "var gotMessage = driver.ExecutableQuery(\"RETURN 'hello world' as message\").ExecuteAsync().Result.Result[0].Get<string>(\"message\");\n",
    "var gotField = driver.ExecutableQuery(\"RETURN 'hello world' as message\").ExecuteAsync().Result.Result[0][\"message\"];\n",
    "var gotFieldAs = driver.ExecutableQuery(\"RETURN 'hello world' as message\").ExecuteAsync().Result.Result[0][\"message\"].As<string>();\n",
    "\n",
    "Console.WriteLine($\"Got message: {gotMessage}\");\n",
    "Console.WriteLine($\"Got field: {gotField}\");\n",
    "Console.WriteLine($\"Got field as: {gotFieldAs}\");"
   ]
  },
  {
   "cell_type": "markdown",
   "metadata": {},
   "source": [
    "### map each result row\n",
    "\n",
    "Add `WithMap()` to apply a map function to each result row. \n",
    "\n",
    "Here, we're converting each row from a record to a simple string..."
   ]
  },
  {
   "cell_type": "code",
   "execution_count": 7,
   "metadata": {
    "dotnet_interactive": {
     "language": "csharp"
    },
    "polyglot_notebook": {
     "kernelName": "csharp"
    },
    "vscode": {
     "languageId": "polyglot-notebook"
    }
   },
   "outputs": [
    {
     "data": {
      "text/plain": [
       "hello world"
      ]
     },
     "metadata": {},
     "output_type": "display_data"
    }
   ],
   "source": [
    "driver.ExecutableQuery(\"RETURN 'hello world' as message\")\n",
    "  .WithMap(row => row[\"message\"].As<string>())\n",
    "  .ExecuteAsync().Result.Result[0]"
   ]
  },
  {
   "cell_type": "markdown",
   "metadata": {},
   "source": [
    "## Create data"
   ]
  },
  {
   "cell_type": "markdown",
   "metadata": {},
   "source": [
    "### Create a Node\n",
    "\n",
    "As graph query language, Cypher works with patterns of data. Patterns are used to create and find data.\n",
    "\n",
    "The simplest pattern is a single \"node\", which is what data records are called in a graph database.\n",
    "\n",
    "The following query creates a single node, assigning the variable `a` to that node and returning the `a` node."
   ]
  },
  {
   "cell_type": "code",
   "execution_count": 21,
   "metadata": {
    "vscode": {
     "languageId": "polyglot-notebook"
    }
   },
   "outputs": [
    {
     "data": {
      "text/html": [
       "<table><thead><tr><th><i>index</i></th><th>value</th></tr></thead><tbody><tr><td>0</td><td><details class=\"dni-treeview\"><summary><span class=\"dni-code-hint\"><code>[ [a, Neo4j.Driver.Internal.Types.Node] ]</code></span></summary><div><table><thead><tr></tr></thead><tbody><tr><td>Keys</td><td><div class=\"dni-plaintext\"><pre>[ a ]</pre></div></td></tr><tr><td>Values</td><td><details class=\"dni-treeview\"><summary><span class=\"dni-code-hint\"><code>[ [a, Neo4j.Driver.Internal.Types.Node] ]</code></span></summary><div><table><thead><tr></tr></thead><tbody><tr><td>Keys</td><td><div class=\"dni-plaintext\"><pre>[ a ]</pre></div></td></tr><tr><td>Values</td><td><details class=\"dni-treeview\"><summary><span class=\"dni-code-hint\"><code>[ [a, Neo4j.Driver.Internal.Types.Node] ]</code></span></summary><div><table><thead><tr></tr></thead><tbody><tr><td>Keys</td><td><div class=\"dni-plaintext\"><pre>[ a ]</pre></div></td></tr><tr><td>Values</td><td><details class=\"dni-treeview\"><summary><span class=\"dni-code-hint\"><code>[ [a, Neo4j.Driver.Internal.Types.Node] ]</code></span></summary><div><table><thead><tr></tr></thead><tbody><tr><td>Keys</td><td><div class=\"dni-plaintext\"><pre>[ a ]</pre></div></td></tr><tr><td>Values</td><td><details class=\"dni-treeview\"><summary><span class=\"dni-code-hint\"><code>[ [a, Neo4j.Driver.Internal.Types.Node] ]</code></span></summary><div><table><thead><tr></tr></thead><tbody><tr><td>Keys</td><td>[ a ]</td></tr><tr><td>Values</td><td>[ [a, Neo4j.Driver.Internal.Types.Node] ]</td></tr><tr><td><i>(values)</i></td><td><table><thead><tr><th><i>index</i></th><th>value</th></tr></thead><tbody><tr><td>0</td><td>[a, Neo4j.Driver.Internal.Types.Node]</td></tr></tbody></table></td></tr></tbody></table></div></details></td></tr><tr><td><i>(values)</i></td><td><table><thead><tr><th><i>index</i></th><th>value</th></tr></thead><tbody><tr><td>0</td><td><details class=\"dni-treeview\"><summary><span class=\"dni-code-hint\"><code>[a, Neo4j.Driver.Internal.Types.Node]</code></span></summary><div><table><thead><tr></tr></thead><tbody><tr><td>Key</td><td>a</td></tr><tr><td>Value</td><td>Neo4j.Driver.Internal.Types.Node</td></tr></tbody></table></div></details></td></tr></tbody></table></td></tr></tbody></table></div></details></td></tr><tr><td><i>(values)</i></td><td><table><thead><tr><th><i>index</i></th><th>value</th></tr></thead><tbody><tr><td>0</td><td><details class=\"dni-treeview\"><summary><span class=\"dni-code-hint\"><code>[a, Neo4j.Driver.Internal.Types.Node]</code></span></summary><div><table><thead><tr></tr></thead><tbody><tr><td>Key</td><td><div class=\"dni-plaintext\"><pre>a</pre></div></td></tr><tr><td>Value</td><td><details class=\"dni-treeview\"><summary><span class=\"dni-code-hint\"><code>Neo4j.Driver.Internal.Types.Node</code></span></summary><div><table><thead><tr></tr></thead><tbody><tr><td>Id</td><td>5</td></tr><tr><td>ElementId</td><td>4:9b52f2f1-e63c-44a2-9183-eef64f1743e9:5</td></tr><tr><td>Labels</td><td>[  ]</td></tr><tr><td>Properties</td><td>[  ]</td></tr></tbody></table></div></details></td></tr></tbody></table></div></details></td></tr></tbody></table></td></tr></tbody></table></div></details></td></tr><tr><td><i>(values)</i></td><td><table><thead><tr><th><i>index</i></th><th>value</th></tr></thead><tbody><tr><td>0</td><td><details class=\"dni-treeview\"><summary><span class=\"dni-code-hint\"><code>[a, Neo4j.Driver.Internal.Types.Node]</code></span></summary><div><table><thead><tr></tr></thead><tbody><tr><td>Key</td><td><div class=\"dni-plaintext\"><pre>a</pre></div></td></tr><tr><td>Value</td><td><details class=\"dni-treeview\"><summary><span class=\"dni-code-hint\"><code>Neo4j.Driver.Internal.Types.Node</code></span></summary><div><table><thead><tr></tr></thead><tbody><tr><td>Id</td><td><div class=\"dni-plaintext\"><pre>5</pre></div></td></tr><tr><td>ElementId</td><td><div class=\"dni-plaintext\"><pre>4:9b52f2f1-e63c-44a2-9183-eef64f1743e9:5</pre></div></td></tr><tr><td>Labels</td><td><div class=\"dni-plaintext\"><pre>[  ]</pre></div></td></tr><tr><td>Properties</td><td><i>(empty)</i></td></tr></tbody></table></div></details></td></tr></tbody></table></div></details></td></tr></tbody></table></td></tr></tbody></table></div></details></td></tr><tr><td><i>(values)</i></td><td><table><thead><tr><th><i>index</i></th><th>value</th></tr></thead><tbody><tr><td>0</td><td><details class=\"dni-treeview\"><summary><span class=\"dni-code-hint\"><code>[a, Neo4j.Driver.Internal.Types.Node]</code></span></summary><div><table><thead><tr></tr></thead><tbody><tr><td>Key</td><td><div class=\"dni-plaintext\"><pre>a</pre></div></td></tr><tr><td>Value</td><td><details class=\"dni-treeview\"><summary><span class=\"dni-code-hint\"><code>Neo4j.Driver.Internal.Types.Node</code></span></summary><div><table><thead><tr></tr></thead><tbody><tr><td>Id</td><td><div class=\"dni-plaintext\"><pre>5</pre></div></td></tr><tr><td>ElementId</td><td><div class=\"dni-plaintext\"><pre>4:9b52f2f1-e63c-44a2-9183-eef64f1743e9:5</pre></div></td></tr><tr><td>Labels</td><td><div class=\"dni-plaintext\"><pre>[  ]</pre></div></td></tr><tr><td>Properties</td><td><i>(empty)</i></td></tr></tbody></table></div></details></td></tr></tbody></table></div></details></td></tr></tbody></table></td></tr></tbody></table></div></details></td></tr></tbody></table><style>\r\n",
       ".dni-code-hint {\r\n",
       "    font-style: italic;\r\n",
       "    overflow: hidden;\r\n",
       "    white-space: nowrap;\r\n",
       "}\r\n",
       ".dni-treeview {\r\n",
       "    white-space: nowrap;\r\n",
       "}\r\n",
       ".dni-treeview td {\r\n",
       "    vertical-align: top;\r\n",
       "    text-align: start;\r\n",
       "}\r\n",
       "details.dni-treeview {\r\n",
       "    padding-left: 1em;\r\n",
       "}\r\n",
       "table td {\r\n",
       "    text-align: start;\r\n",
       "}\r\n",
       "table tr { \r\n",
       "    vertical-align: top; \r\n",
       "    margin: 0em 0px;\r\n",
       "}\r\n",
       "table tr td pre \r\n",
       "{ \r\n",
       "    vertical-align: top !important; \r\n",
       "    margin: 0em 0px !important;\r\n",
       "} \r\n",
       "table th {\r\n",
       "    text-align: start;\r\n",
       "}\r\n",
       "</style>"
      ]
     },
     "metadata": {},
     "output_type": "display_data"
    }
   ],
   "source": [
    "driver.ExecutableQuery(\"CREATE (a) RETURN a\").ExecuteAsync().Result.Result"
   ]
  },
  {
   "cell_type": "markdown",
   "metadata": {},
   "source": [
    "### Create a Node with a Label\n",
    "\n",
    "Nodes can belong to one or more sets identified by \"label\". You can set a label when creating a node using the\n",
    "notation `(:NameOfLabel)`.\n",
    "\n",
    "For example, the following query creates a node with the label `Person`."
   ]
  },
  {
   "cell_type": "code",
   "execution_count": 20,
   "metadata": {
    "vscode": {
     "languageId": "polyglot-notebook"
    }
   },
   "outputs": [
    {
     "data": {
      "text/html": [
       "<table><thead><tr><th><i>index</i></th><th>value</th></tr></thead><tbody><tr><td>0</td><td><details class=\"dni-treeview\"><summary><span class=\"dni-code-hint\"><code>[ [a, Neo4j.Driver.Internal.Types.Node] ]</code></span></summary><div><table><thead><tr></tr></thead><tbody><tr><td>Keys</td><td><div class=\"dni-plaintext\"><pre>[ a ]</pre></div></td></tr><tr><td>Values</td><td><details class=\"dni-treeview\"><summary><span class=\"dni-code-hint\"><code>[ [a, Neo4j.Driver.Internal.Types.Node] ]</code></span></summary><div><table><thead><tr></tr></thead><tbody><tr><td>Keys</td><td><div class=\"dni-plaintext\"><pre>[ a ]</pre></div></td></tr><tr><td>Values</td><td><details class=\"dni-treeview\"><summary><span class=\"dni-code-hint\"><code>[ [a, Neo4j.Driver.Internal.Types.Node] ]</code></span></summary><div><table><thead><tr></tr></thead><tbody><tr><td>Keys</td><td><div class=\"dni-plaintext\"><pre>[ a ]</pre></div></td></tr><tr><td>Values</td><td><details class=\"dni-treeview\"><summary><span class=\"dni-code-hint\"><code>[ [a, Neo4j.Driver.Internal.Types.Node] ]</code></span></summary><div><table><thead><tr></tr></thead><tbody><tr><td>Keys</td><td><div class=\"dni-plaintext\"><pre>[ a ]</pre></div></td></tr><tr><td>Values</td><td><details class=\"dni-treeview\"><summary><span class=\"dni-code-hint\"><code>[ [a, Neo4j.Driver.Internal.Types.Node] ]</code></span></summary><div><table><thead><tr></tr></thead><tbody><tr><td>Keys</td><td>[ a ]</td></tr><tr><td>Values</td><td>[ [a, Neo4j.Driver.Internal.Types.Node] ]</td></tr><tr><td><i>(values)</i></td><td><table><thead><tr><th><i>index</i></th><th>value</th></tr></thead><tbody><tr><td>0</td><td>[a, Neo4j.Driver.Internal.Types.Node]</td></tr></tbody></table></td></tr></tbody></table></div></details></td></tr><tr><td><i>(values)</i></td><td><table><thead><tr><th><i>index</i></th><th>value</th></tr></thead><tbody><tr><td>0</td><td><details class=\"dni-treeview\"><summary><span class=\"dni-code-hint\"><code>[a, Neo4j.Driver.Internal.Types.Node]</code></span></summary><div><table><thead><tr></tr></thead><tbody><tr><td>Key</td><td>a</td></tr><tr><td>Value</td><td>Neo4j.Driver.Internal.Types.Node</td></tr></tbody></table></div></details></td></tr></tbody></table></td></tr></tbody></table></div></details></td></tr><tr><td><i>(values)</i></td><td><table><thead><tr><th><i>index</i></th><th>value</th></tr></thead><tbody><tr><td>0</td><td><details class=\"dni-treeview\"><summary><span class=\"dni-code-hint\"><code>[a, Neo4j.Driver.Internal.Types.Node]</code></span></summary><div><table><thead><tr></tr></thead><tbody><tr><td>Key</td><td><div class=\"dni-plaintext\"><pre>a</pre></div></td></tr><tr><td>Value</td><td><details class=\"dni-treeview\"><summary><span class=\"dni-code-hint\"><code>Neo4j.Driver.Internal.Types.Node</code></span></summary><div><table><thead><tr></tr></thead><tbody><tr><td>Id</td><td>4</td></tr><tr><td>ElementId</td><td>4:9b52f2f1-e63c-44a2-9183-eef64f1743e9:4</td></tr><tr><td>Labels</td><td>[ Person ]</td></tr><tr><td>Properties</td><td>[  ]</td></tr></tbody></table></div></details></td></tr></tbody></table></div></details></td></tr></tbody></table></td></tr></tbody></table></div></details></td></tr><tr><td><i>(values)</i></td><td><table><thead><tr><th><i>index</i></th><th>value</th></tr></thead><tbody><tr><td>0</td><td><details class=\"dni-treeview\"><summary><span class=\"dni-code-hint\"><code>[a, Neo4j.Driver.Internal.Types.Node]</code></span></summary><div><table><thead><tr></tr></thead><tbody><tr><td>Key</td><td><div class=\"dni-plaintext\"><pre>a</pre></div></td></tr><tr><td>Value</td><td><details class=\"dni-treeview\"><summary><span class=\"dni-code-hint\"><code>Neo4j.Driver.Internal.Types.Node</code></span></summary><div><table><thead><tr></tr></thead><tbody><tr><td>Id</td><td><div class=\"dni-plaintext\"><pre>4</pre></div></td></tr><tr><td>ElementId</td><td><div class=\"dni-plaintext\"><pre>4:9b52f2f1-e63c-44a2-9183-eef64f1743e9:4</pre></div></td></tr><tr><td>Labels</td><td><div class=\"dni-plaintext\"><pre>[ Person ]</pre></div></td></tr><tr><td>Properties</td><td><i>(empty)</i></td></tr></tbody></table></div></details></td></tr></tbody></table></div></details></td></tr></tbody></table></td></tr></tbody></table></div></details></td></tr><tr><td><i>(values)</i></td><td><table><thead><tr><th><i>index</i></th><th>value</th></tr></thead><tbody><tr><td>0</td><td><details class=\"dni-treeview\"><summary><span class=\"dni-code-hint\"><code>[a, Neo4j.Driver.Internal.Types.Node]</code></span></summary><div><table><thead><tr></tr></thead><tbody><tr><td>Key</td><td><div class=\"dni-plaintext\"><pre>a</pre></div></td></tr><tr><td>Value</td><td><details class=\"dni-treeview\"><summary><span class=\"dni-code-hint\"><code>Neo4j.Driver.Internal.Types.Node</code></span></summary><div><table><thead><tr></tr></thead><tbody><tr><td>Id</td><td><div class=\"dni-plaintext\"><pre>4</pre></div></td></tr><tr><td>ElementId</td><td><div class=\"dni-plaintext\"><pre>4:9b52f2f1-e63c-44a2-9183-eef64f1743e9:4</pre></div></td></tr><tr><td>Labels</td><td><div class=\"dni-plaintext\"><pre>[ Person ]</pre></div></td></tr><tr><td>Properties</td><td><i>(empty)</i></td></tr></tbody></table></div></details></td></tr></tbody></table></div></details></td></tr></tbody></table></td></tr></tbody></table></div></details></td></tr></tbody></table><style>\r\n",
       ".dni-code-hint {\r\n",
       "    font-style: italic;\r\n",
       "    overflow: hidden;\r\n",
       "    white-space: nowrap;\r\n",
       "}\r\n",
       ".dni-treeview {\r\n",
       "    white-space: nowrap;\r\n",
       "}\r\n",
       ".dni-treeview td {\r\n",
       "    vertical-align: top;\r\n",
       "    text-align: start;\r\n",
       "}\r\n",
       "details.dni-treeview {\r\n",
       "    padding-left: 1em;\r\n",
       "}\r\n",
       "table td {\r\n",
       "    text-align: start;\r\n",
       "}\r\n",
       "table tr { \r\n",
       "    vertical-align: top; \r\n",
       "    margin: 0em 0px;\r\n",
       "}\r\n",
       "table tr td pre \r\n",
       "{ \r\n",
       "    vertical-align: top !important; \r\n",
       "    margin: 0em 0px !important;\r\n",
       "} \r\n",
       "table th {\r\n",
       "    text-align: start;\r\n",
       "}\r\n",
       "</style>"
      ]
     },
     "metadata": {},
     "output_type": "display_data"
    }
   ],
   "source": [
    "driver.ExecutableQuery(\"CREATE (a:Person) RETURN a\").ExecuteAsync().Result.Result"
   ]
  },
  {
   "cell_type": "markdown",
   "metadata": {},
   "source": [
    "### Create a Node with Properties\n",
    "\n",
    "As data records, nodes can also carry properties. Properties are key-value pairs.\n",
    "\n",
    "The following query creates a node with the label `Person` and two properties: `name` and `height`."
   ]
  },
  {
   "cell_type": "code",
   "execution_count": 19,
   "metadata": {
    "vscode": {
     "languageId": "polyglot-notebook"
    }
   },
   "outputs": [
    {
     "data": {
      "text/html": [
       "<table><thead><tr><th><i>index</i></th><th>value</th></tr></thead><tbody><tr><td>0</td><td><details class=\"dni-treeview\"><summary><span class=\"dni-code-hint\"><code>[ [a, Neo4j.Driver.Internal.Types.Node] ]</code></span></summary><div><table><thead><tr></tr></thead><tbody><tr><td>Keys</td><td><div class=\"dni-plaintext\"><pre>[ a ]</pre></div></td></tr><tr><td>Values</td><td><details class=\"dni-treeview\"><summary><span class=\"dni-code-hint\"><code>[ [a, Neo4j.Driver.Internal.Types.Node] ]</code></span></summary><div><table><thead><tr></tr></thead><tbody><tr><td>Keys</td><td><div class=\"dni-plaintext\"><pre>[ a ]</pre></div></td></tr><tr><td>Values</td><td><details class=\"dni-treeview\"><summary><span class=\"dni-code-hint\"><code>[ [a, Neo4j.Driver.Internal.Types.Node] ]</code></span></summary><div><table><thead><tr></tr></thead><tbody><tr><td>Keys</td><td><div class=\"dni-plaintext\"><pre>[ a ]</pre></div></td></tr><tr><td>Values</td><td><details class=\"dni-treeview\"><summary><span class=\"dni-code-hint\"><code>[ [a, Neo4j.Driver.Internal.Types.Node] ]</code></span></summary><div><table><thead><tr></tr></thead><tbody><tr><td>Keys</td><td><div class=\"dni-plaintext\"><pre>[ a ]</pre></div></td></tr><tr><td>Values</td><td><details class=\"dni-treeview\"><summary><span class=\"dni-code-hint\"><code>[ [a, Neo4j.Driver.Internal.Types.Node] ]</code></span></summary><div><table><thead><tr></tr></thead><tbody><tr><td>Keys</td><td>[ a ]</td></tr><tr><td>Values</td><td>[ [a, Neo4j.Driver.Internal.Types.Node] ]</td></tr><tr><td><i>(values)</i></td><td><table><thead><tr><th><i>index</i></th><th>value</th></tr></thead><tbody><tr><td>0</td><td>[a, Neo4j.Driver.Internal.Types.Node]</td></tr></tbody></table></td></tr></tbody></table></div></details></td></tr><tr><td><i>(values)</i></td><td><table><thead><tr><th><i>index</i></th><th>value</th></tr></thead><tbody><tr><td>0</td><td><details class=\"dni-treeview\"><summary><span class=\"dni-code-hint\"><code>[a, Neo4j.Driver.Internal.Types.Node]</code></span></summary><div><table><thead><tr></tr></thead><tbody><tr><td>Key</td><td>a</td></tr><tr><td>Value</td><td>Neo4j.Driver.Internal.Types.Node</td></tr></tbody></table></div></details></td></tr></tbody></table></td></tr></tbody></table></div></details></td></tr><tr><td><i>(values)</i></td><td><table><thead><tr><th><i>index</i></th><th>value</th></tr></thead><tbody><tr><td>0</td><td><details class=\"dni-treeview\"><summary><span class=\"dni-code-hint\"><code>[a, Neo4j.Driver.Internal.Types.Node]</code></span></summary><div><table><thead><tr></tr></thead><tbody><tr><td>Key</td><td><div class=\"dni-plaintext\"><pre>a</pre></div></td></tr><tr><td>Value</td><td><details class=\"dni-treeview\"><summary><span class=\"dni-code-hint\"><code>Neo4j.Driver.Internal.Types.Node</code></span></summary><div><table><thead><tr></tr></thead><tbody><tr><td>Id</td><td>3</td></tr><tr><td>ElementId</td><td>4:9b52f2f1-e63c-44a2-9183-eef64f1743e9:3</td></tr><tr><td>Labels</td><td>[ Person ]</td></tr><tr><td>Properties</td><td>[ [name, Andreas], [height, 186] ]</td></tr></tbody></table></div></details></td></tr></tbody></table></div></details></td></tr></tbody></table></td></tr></tbody></table></div></details></td></tr><tr><td><i>(values)</i></td><td><table><thead><tr><th><i>index</i></th><th>value</th></tr></thead><tbody><tr><td>0</td><td><details class=\"dni-treeview\"><summary><span class=\"dni-code-hint\"><code>[a, Neo4j.Driver.Internal.Types.Node]</code></span></summary><div><table><thead><tr></tr></thead><tbody><tr><td>Key</td><td><div class=\"dni-plaintext\"><pre>a</pre></div></td></tr><tr><td>Value</td><td><details class=\"dni-treeview\"><summary><span class=\"dni-code-hint\"><code>Neo4j.Driver.Internal.Types.Node</code></span></summary><div><table><thead><tr></tr></thead><tbody><tr><td>Id</td><td><div class=\"dni-plaintext\"><pre>3</pre></div></td></tr><tr><td>ElementId</td><td><div class=\"dni-plaintext\"><pre>4:9b52f2f1-e63c-44a2-9183-eef64f1743e9:3</pre></div></td></tr><tr><td>Labels</td><td><div class=\"dni-plaintext\"><pre>[ Person ]</pre></div></td></tr><tr><td>Properties</td><td><table><thead><tr><th><i>key</i></th><th><i>type</i></th><th>value</th></tr></thead><tbody><tr><td><div class=\"dni-plaintext\"><pre>name</pre></div></td><td>System.String</td><td><div class=\"dni-plaintext\"><pre>Andreas</pre></div></td></tr><tr><td><div class=\"dni-plaintext\"><pre>height</pre></div></td><td>System.Int64</td><td>186</td></tr></tbody></table></td></tr></tbody></table></div></details></td></tr></tbody></table></div></details></td></tr></tbody></table></td></tr></tbody></table></div></details></td></tr><tr><td><i>(values)</i></td><td><table><thead><tr><th><i>index</i></th><th>value</th></tr></thead><tbody><tr><td>0</td><td><details class=\"dni-treeview\"><summary><span class=\"dni-code-hint\"><code>[a, Neo4j.Driver.Internal.Types.Node]</code></span></summary><div><table><thead><tr></tr></thead><tbody><tr><td>Key</td><td><div class=\"dni-plaintext\"><pre>a</pre></div></td></tr><tr><td>Value</td><td><details class=\"dni-treeview\"><summary><span class=\"dni-code-hint\"><code>Neo4j.Driver.Internal.Types.Node</code></span></summary><div><table><thead><tr></tr></thead><tbody><tr><td>Id</td><td><div class=\"dni-plaintext\"><pre>3</pre></div></td></tr><tr><td>ElementId</td><td><div class=\"dni-plaintext\"><pre>4:9b52f2f1-e63c-44a2-9183-eef64f1743e9:3</pre></div></td></tr><tr><td>Labels</td><td><div class=\"dni-plaintext\"><pre>[ Person ]</pre></div></td></tr><tr><td>Properties</td><td><table><thead><tr><th><i>key</i></th><th><i>type</i></th><th>value</th></tr></thead><tbody><tr><td><div class=\"dni-plaintext\"><pre>name</pre></div></td><td><span><a href=\"https://docs.microsoft.com/dotnet/api/system.string?view=net-7.0\">System.String</a></span></td><td><div class=\"dni-plaintext\"><pre>Andreas</pre></div></td></tr><tr><td><div class=\"dni-plaintext\"><pre>height</pre></div></td><td><span><a href=\"https://docs.microsoft.com/dotnet/api/system.int64?view=net-7.0\">System.Int64</a></span></td><td><div class=\"dni-plaintext\"><pre>186</pre></div></td></tr></tbody></table></td></tr></tbody></table></div></details></td></tr></tbody></table></div></details></td></tr></tbody></table></td></tr></tbody></table></div></details></td></tr></tbody></table><style>\r\n",
       ".dni-code-hint {\r\n",
       "    font-style: italic;\r\n",
       "    overflow: hidden;\r\n",
       "    white-space: nowrap;\r\n",
       "}\r\n",
       ".dni-treeview {\r\n",
       "    white-space: nowrap;\r\n",
       "}\r\n",
       ".dni-treeview td {\r\n",
       "    vertical-align: top;\r\n",
       "    text-align: start;\r\n",
       "}\r\n",
       "details.dni-treeview {\r\n",
       "    padding-left: 1em;\r\n",
       "}\r\n",
       "table td {\r\n",
       "    text-align: start;\r\n",
       "}\r\n",
       "table tr { \r\n",
       "    vertical-align: top; \r\n",
       "    margin: 0em 0px;\r\n",
       "}\r\n",
       "table tr td pre \r\n",
       "{ \r\n",
       "    vertical-align: top !important; \r\n",
       "    margin: 0em 0px !important;\r\n",
       "} \r\n",
       "table th {\r\n",
       "    text-align: start;\r\n",
       "}\r\n",
       "</style>"
      ]
     },
     "metadata": {},
     "output_type": "display_data"
    }
   ],
   "source": [
    "driver.ExecutableQuery(\"CREATE (a:Person {name:'Andreas', height: 186}) RETURN a\").ExecuteAsync().Result.Result"
   ]
  },
  {
   "cell_type": "markdown",
   "metadata": {},
   "source": [
    "## Find data\n",
    "\n",
    "Finding or reading data also uses patterns. You can use similar single-node patterns."
   ]
  },
  {
   "cell_type": "markdown",
   "metadata": {},
   "source": [
    "### Find all Nodes\n",
    "\n",
    "The following query finds all nodes in the graph by using the `MATCH` clause with a single node pattern.\n",
    "\n",
    "Like `CREATE`, the `MATCH` clause binds variables within a pattern which can be used for selecting results.\n",
    "\n",
    "Here, the `all` variable will match any node within the graph, producing as many result rows as there are nodes. For larger graphs, this is probably a bad idea."
   ]
  },
  {
   "cell_type": "code",
   "execution_count": 18,
   "metadata": {
    "vscode": {
     "languageId": "polyglot-notebook"
    }
   },
   "outputs": [
    {
     "data": {
      "text/html": [
       "<table><thead><tr><th><i>index</i></th><th>value</th></tr></thead><tbody><tr><td>0</td><td><details class=\"dni-treeview\"><summary><span class=\"dni-code-hint\"><code>[ [all, Neo4j.Driver.Internal.Types.Node] ]</code></span></summary><div><table><thead><tr></tr></thead><tbody><tr><td>Keys</td><td><div class=\"dni-plaintext\"><pre>[ all ]</pre></div></td></tr><tr><td>Values</td><td><details class=\"dni-treeview\"><summary><span class=\"dni-code-hint\"><code>[ [all, Neo4j.Driver.Internal.Types.Node] ]</code></span></summary><div><table><thead><tr></tr></thead><tbody><tr><td>Keys</td><td><div class=\"dni-plaintext\"><pre>[ all ]</pre></div></td></tr><tr><td>Values</td><td><details class=\"dni-treeview\"><summary><span class=\"dni-code-hint\"><code>[ [all, Neo4j.Driver.Internal.Types.Node] ]</code></span></summary><div><table><thead><tr></tr></thead><tbody><tr><td>Keys</td><td><div class=\"dni-plaintext\"><pre>[ all ]</pre></div></td></tr><tr><td>Values</td><td><details class=\"dni-treeview\"><summary><span class=\"dni-code-hint\"><code>[ [all, Neo4j.Driver.Internal.Types.Node] ]</code></span></summary><div><table><thead><tr></tr></thead><tbody><tr><td>Keys</td><td><div class=\"dni-plaintext\"><pre>[ all ]</pre></div></td></tr><tr><td>Values</td><td><details class=\"dni-treeview\"><summary><span class=\"dni-code-hint\"><code>[ [all, Neo4j.Driver.Internal.Types.Node] ]</code></span></summary><div><table><thead><tr></tr></thead><tbody><tr><td>Keys</td><td>[ all ]</td></tr><tr><td>Values</td><td>[ [all, Neo4j.Driver.Internal.Types.Node] ]</td></tr><tr><td><i>(values)</i></td><td><table><thead><tr><th><i>index</i></th><th>value</th></tr></thead><tbody><tr><td>0</td><td>[all, Neo4j.Driver.Internal.Types.Node]</td></tr></tbody></table></td></tr></tbody></table></div></details></td></tr><tr><td><i>(values)</i></td><td><table><thead><tr><th><i>index</i></th><th>value</th></tr></thead><tbody><tr><td>0</td><td><details class=\"dni-treeview\"><summary><span class=\"dni-code-hint\"><code>[all, Neo4j.Driver.Internal.Types.Node]</code></span></summary><div><table><thead><tr></tr></thead><tbody><tr><td>Key</td><td>all</td></tr><tr><td>Value</td><td>Neo4j.Driver.Internal.Types.Node</td></tr></tbody></table></div></details></td></tr></tbody></table></td></tr></tbody></table></div></details></td></tr><tr><td><i>(values)</i></td><td><table><thead><tr><th><i>index</i></th><th>value</th></tr></thead><tbody><tr><td>0</td><td><details class=\"dni-treeview\"><summary><span class=\"dni-code-hint\"><code>[all, Neo4j.Driver.Internal.Types.Node]</code></span></summary><div><table><thead><tr></tr></thead><tbody><tr><td>Key</td><td><div class=\"dni-plaintext\"><pre>all</pre></div></td></tr><tr><td>Value</td><td><details class=\"dni-treeview\"><summary><span class=\"dni-code-hint\"><code>Neo4j.Driver.Internal.Types.Node</code></span></summary><div><table><thead><tr></tr></thead><tbody><tr><td>Id</td><td>0</td></tr><tr><td>ElementId</td><td>4:9b52f2f1-e63c-44a2-9183-eef64f1743e9:0</td></tr><tr><td>Labels</td><td>[  ]</td></tr><tr><td>Properties</td><td>[  ]</td></tr></tbody></table></div></details></td></tr></tbody></table></div></details></td></tr></tbody></table></td></tr></tbody></table></div></details></td></tr><tr><td><i>(values)</i></td><td><table><thead><tr><th><i>index</i></th><th>value</th></tr></thead><tbody><tr><td>0</td><td><details class=\"dni-treeview\"><summary><span class=\"dni-code-hint\"><code>[all, Neo4j.Driver.Internal.Types.Node]</code></span></summary><div><table><thead><tr></tr></thead><tbody><tr><td>Key</td><td><div class=\"dni-plaintext\"><pre>all</pre></div></td></tr><tr><td>Value</td><td><details class=\"dni-treeview\"><summary><span class=\"dni-code-hint\"><code>Neo4j.Driver.Internal.Types.Node</code></span></summary><div><table><thead><tr></tr></thead><tbody><tr><td>Id</td><td><div class=\"dni-plaintext\"><pre>0</pre></div></td></tr><tr><td>ElementId</td><td><div class=\"dni-plaintext\"><pre>4:9b52f2f1-e63c-44a2-9183-eef64f1743e9:0</pre></div></td></tr><tr><td>Labels</td><td><div class=\"dni-plaintext\"><pre>[  ]</pre></div></td></tr><tr><td>Properties</td><td><i>(empty)</i></td></tr></tbody></table></div></details></td></tr></tbody></table></div></details></td></tr></tbody></table></td></tr></tbody></table></div></details></td></tr><tr><td><i>(values)</i></td><td><table><thead><tr><th><i>index</i></th><th>value</th></tr></thead><tbody><tr><td>0</td><td><details class=\"dni-treeview\"><summary><span class=\"dni-code-hint\"><code>[all, Neo4j.Driver.Internal.Types.Node]</code></span></summary><div><table><thead><tr></tr></thead><tbody><tr><td>Key</td><td><div class=\"dni-plaintext\"><pre>all</pre></div></td></tr><tr><td>Value</td><td><details class=\"dni-treeview\"><summary><span class=\"dni-code-hint\"><code>Neo4j.Driver.Internal.Types.Node</code></span></summary><div><table><thead><tr></tr></thead><tbody><tr><td>Id</td><td><div class=\"dni-plaintext\"><pre>0</pre></div></td></tr><tr><td>ElementId</td><td><div class=\"dni-plaintext\"><pre>4:9b52f2f1-e63c-44a2-9183-eef64f1743e9:0</pre></div></td></tr><tr><td>Labels</td><td><div class=\"dni-plaintext\"><pre>[  ]</pre></div></td></tr><tr><td>Properties</td><td><i>(empty)</i></td></tr></tbody></table></div></details></td></tr></tbody></table></div></details></td></tr></tbody></table></td></tr></tbody></table></div></details></td></tr><tr><td>1</td><td><details class=\"dni-treeview\"><summary><span class=\"dni-code-hint\"><code>[ [all, Neo4j.Driver.Internal.Types.Node] ]</code></span></summary><div><table><thead><tr></tr></thead><tbody><tr><td>Keys</td><td><div class=\"dni-plaintext\"><pre>[ all ]</pre></div></td></tr><tr><td>Values</td><td><details class=\"dni-treeview\"><summary><span class=\"dni-code-hint\"><code>[ [all, Neo4j.Driver.Internal.Types.Node] ]</code></span></summary><div><table><thead><tr></tr></thead><tbody><tr><td>Keys</td><td><div class=\"dni-plaintext\"><pre>[ all ]</pre></div></td></tr><tr><td>Values</td><td><details class=\"dni-treeview\"><summary><span class=\"dni-code-hint\"><code>[ [all, Neo4j.Driver.Internal.Types.Node] ]</code></span></summary><div><table><thead><tr></tr></thead><tbody><tr><td>Keys</td><td><div class=\"dni-plaintext\"><pre>[ all ]</pre></div></td></tr><tr><td>Values</td><td><details class=\"dni-treeview\"><summary><span class=\"dni-code-hint\"><code>[ [all, Neo4j.Driver.Internal.Types.Node] ]</code></span></summary><div><table><thead><tr></tr></thead><tbody><tr><td>Keys</td><td><div class=\"dni-plaintext\"><pre>[ all ]</pre></div></td></tr><tr><td>Values</td><td><details class=\"dni-treeview\"><summary><span class=\"dni-code-hint\"><code>[ [all, Neo4j.Driver.Internal.Types.Node] ]</code></span></summary><div><table><thead><tr></tr></thead><tbody><tr><td>Keys</td><td>[ all ]</td></tr><tr><td>Values</td><td>[ [all, Neo4j.Driver.Internal.Types.Node] ]</td></tr><tr><td><i>(values)</i></td><td><table><thead><tr><th><i>index</i></th><th>value</th></tr></thead><tbody><tr><td>0</td><td>[all, Neo4j.Driver.Internal.Types.Node]</td></tr></tbody></table></td></tr></tbody></table></div></details></td></tr><tr><td><i>(values)</i></td><td><table><thead><tr><th><i>index</i></th><th>value</th></tr></thead><tbody><tr><td>0</td><td><details class=\"dni-treeview\"><summary><span class=\"dni-code-hint\"><code>[all, Neo4j.Driver.Internal.Types.Node]</code></span></summary><div><table><thead><tr></tr></thead><tbody><tr><td>Key</td><td>all</td></tr><tr><td>Value</td><td>Neo4j.Driver.Internal.Types.Node</td></tr></tbody></table></div></details></td></tr></tbody></table></td></tr></tbody></table></div></details></td></tr><tr><td><i>(values)</i></td><td><table><thead><tr><th><i>index</i></th><th>value</th></tr></thead><tbody><tr><td>0</td><td><details class=\"dni-treeview\"><summary><span class=\"dni-code-hint\"><code>[all, Neo4j.Driver.Internal.Types.Node]</code></span></summary><div><table><thead><tr></tr></thead><tbody><tr><td>Key</td><td><div class=\"dni-plaintext\"><pre>all</pre></div></td></tr><tr><td>Value</td><td><details class=\"dni-treeview\"><summary><span class=\"dni-code-hint\"><code>Neo4j.Driver.Internal.Types.Node</code></span></summary><div><table><thead><tr></tr></thead><tbody><tr><td>Id</td><td>1</td></tr><tr><td>ElementId</td><td>4:9b52f2f1-e63c-44a2-9183-eef64f1743e9:1</td></tr><tr><td>Labels</td><td>[ Person ]</td></tr><tr><td>Properties</td><td>[  ]</td></tr></tbody></table></div></details></td></tr></tbody></table></div></details></td></tr></tbody></table></td></tr></tbody></table></div></details></td></tr><tr><td><i>(values)</i></td><td><table><thead><tr><th><i>index</i></th><th>value</th></tr></thead><tbody><tr><td>0</td><td><details class=\"dni-treeview\"><summary><span class=\"dni-code-hint\"><code>[all, Neo4j.Driver.Internal.Types.Node]</code></span></summary><div><table><thead><tr></tr></thead><tbody><tr><td>Key</td><td><div class=\"dni-plaintext\"><pre>all</pre></div></td></tr><tr><td>Value</td><td><details class=\"dni-treeview\"><summary><span class=\"dni-code-hint\"><code>Neo4j.Driver.Internal.Types.Node</code></span></summary><div><table><thead><tr></tr></thead><tbody><tr><td>Id</td><td><div class=\"dni-plaintext\"><pre>1</pre></div></td></tr><tr><td>ElementId</td><td><div class=\"dni-plaintext\"><pre>4:9b52f2f1-e63c-44a2-9183-eef64f1743e9:1</pre></div></td></tr><tr><td>Labels</td><td><div class=\"dni-plaintext\"><pre>[ Person ]</pre></div></td></tr><tr><td>Properties</td><td><i>(empty)</i></td></tr></tbody></table></div></details></td></tr></tbody></table></div></details></td></tr></tbody></table></td></tr></tbody></table></div></details></td></tr><tr><td><i>(values)</i></td><td><table><thead><tr><th><i>index</i></th><th>value</th></tr></thead><tbody><tr><td>0</td><td><details class=\"dni-treeview\"><summary><span class=\"dni-code-hint\"><code>[all, Neo4j.Driver.Internal.Types.Node]</code></span></summary><div><table><thead><tr></tr></thead><tbody><tr><td>Key</td><td><div class=\"dni-plaintext\"><pre>all</pre></div></td></tr><tr><td>Value</td><td><details class=\"dni-treeview\"><summary><span class=\"dni-code-hint\"><code>Neo4j.Driver.Internal.Types.Node</code></span></summary><div><table><thead><tr></tr></thead><tbody><tr><td>Id</td><td><div class=\"dni-plaintext\"><pre>1</pre></div></td></tr><tr><td>ElementId</td><td><div class=\"dni-plaintext\"><pre>4:9b52f2f1-e63c-44a2-9183-eef64f1743e9:1</pre></div></td></tr><tr><td>Labels</td><td><div class=\"dni-plaintext\"><pre>[ Person ]</pre></div></td></tr><tr><td>Properties</td><td><i>(empty)</i></td></tr></tbody></table></div></details></td></tr></tbody></table></div></details></td></tr></tbody></table></td></tr></tbody></table></div></details></td></tr><tr><td>2</td><td><details class=\"dni-treeview\"><summary><span class=\"dni-code-hint\"><code>[ [all, Neo4j.Driver.Internal.Types.Node] ]</code></span></summary><div><table><thead><tr></tr></thead><tbody><tr><td>Keys</td><td><div class=\"dni-plaintext\"><pre>[ all ]</pre></div></td></tr><tr><td>Values</td><td><details class=\"dni-treeview\"><summary><span class=\"dni-code-hint\"><code>[ [all, Neo4j.Driver.Internal.Types.Node] ]</code></span></summary><div><table><thead><tr></tr></thead><tbody><tr><td>Keys</td><td><div class=\"dni-plaintext\"><pre>[ all ]</pre></div></td></tr><tr><td>Values</td><td><details class=\"dni-treeview\"><summary><span class=\"dni-code-hint\"><code>[ [all, Neo4j.Driver.Internal.Types.Node] ]</code></span></summary><div><table><thead><tr></tr></thead><tbody><tr><td>Keys</td><td><div class=\"dni-plaintext\"><pre>[ all ]</pre></div></td></tr><tr><td>Values</td><td><details class=\"dni-treeview\"><summary><span class=\"dni-code-hint\"><code>[ [all, Neo4j.Driver.Internal.Types.Node] ]</code></span></summary><div><table><thead><tr></tr></thead><tbody><tr><td>Keys</td><td><div class=\"dni-plaintext\"><pre>[ all ]</pre></div></td></tr><tr><td>Values</td><td><details class=\"dni-treeview\"><summary><span class=\"dni-code-hint\"><code>[ [all, Neo4j.Driver.Internal.Types.Node] ]</code></span></summary><div><table><thead><tr></tr></thead><tbody><tr><td>Keys</td><td>[ all ]</td></tr><tr><td>Values</td><td>[ [all, Neo4j.Driver.Internal.Types.Node] ]</td></tr><tr><td><i>(values)</i></td><td><table><thead><tr><th><i>index</i></th><th>value</th></tr></thead><tbody><tr><td>0</td><td>[all, Neo4j.Driver.Internal.Types.Node]</td></tr></tbody></table></td></tr></tbody></table></div></details></td></tr><tr><td><i>(values)</i></td><td><table><thead><tr><th><i>index</i></th><th>value</th></tr></thead><tbody><tr><td>0</td><td><details class=\"dni-treeview\"><summary><span class=\"dni-code-hint\"><code>[all, Neo4j.Driver.Internal.Types.Node]</code></span></summary><div><table><thead><tr></tr></thead><tbody><tr><td>Key</td><td>all</td></tr><tr><td>Value</td><td>Neo4j.Driver.Internal.Types.Node</td></tr></tbody></table></div></details></td></tr></tbody></table></td></tr></tbody></table></div></details></td></tr><tr><td><i>(values)</i></td><td><table><thead><tr><th><i>index</i></th><th>value</th></tr></thead><tbody><tr><td>0</td><td><details class=\"dni-treeview\"><summary><span class=\"dni-code-hint\"><code>[all, Neo4j.Driver.Internal.Types.Node]</code></span></summary><div><table><thead><tr></tr></thead><tbody><tr><td>Key</td><td><div class=\"dni-plaintext\"><pre>all</pre></div></td></tr><tr><td>Value</td><td><details class=\"dni-treeview\"><summary><span class=\"dni-code-hint\"><code>Neo4j.Driver.Internal.Types.Node</code></span></summary><div><table><thead><tr></tr></thead><tbody><tr><td>Id</td><td>2</td></tr><tr><td>ElementId</td><td>4:9b52f2f1-e63c-44a2-9183-eef64f1743e9:2</td></tr><tr><td>Labels</td><td>[ Person ]</td></tr><tr><td>Properties</td><td>[ [name, Andreas], [height, 186] ]</td></tr></tbody></table></div></details></td></tr></tbody></table></div></details></td></tr></tbody></table></td></tr></tbody></table></div></details></td></tr><tr><td><i>(values)</i></td><td><table><thead><tr><th><i>index</i></th><th>value</th></tr></thead><tbody><tr><td>0</td><td><details class=\"dni-treeview\"><summary><span class=\"dni-code-hint\"><code>[all, Neo4j.Driver.Internal.Types.Node]</code></span></summary><div><table><thead><tr></tr></thead><tbody><tr><td>Key</td><td><div class=\"dni-plaintext\"><pre>all</pre></div></td></tr><tr><td>Value</td><td><details class=\"dni-treeview\"><summary><span class=\"dni-code-hint\"><code>Neo4j.Driver.Internal.Types.Node</code></span></summary><div><table><thead><tr></tr></thead><tbody><tr><td>Id</td><td><div class=\"dni-plaintext\"><pre>2</pre></div></td></tr><tr><td>ElementId</td><td><div class=\"dni-plaintext\"><pre>4:9b52f2f1-e63c-44a2-9183-eef64f1743e9:2</pre></div></td></tr><tr><td>Labels</td><td><div class=\"dni-plaintext\"><pre>[ Person ]</pre></div></td></tr><tr><td>Properties</td><td><table><thead><tr><th><i>key</i></th><th><i>type</i></th><th>value</th></tr></thead><tbody><tr><td><div class=\"dni-plaintext\"><pre>name</pre></div></td><td>System.String</td><td><div class=\"dni-plaintext\"><pre>Andreas</pre></div></td></tr><tr><td><div class=\"dni-plaintext\"><pre>height</pre></div></td><td>System.Int64</td><td>186</td></tr></tbody></table></td></tr></tbody></table></div></details></td></tr></tbody></table></div></details></td></tr></tbody></table></td></tr></tbody></table></div></details></td></tr><tr><td><i>(values)</i></td><td><table><thead><tr><th><i>index</i></th><th>value</th></tr></thead><tbody><tr><td>0</td><td><details class=\"dni-treeview\"><summary><span class=\"dni-code-hint\"><code>[all, Neo4j.Driver.Internal.Types.Node]</code></span></summary><div><table><thead><tr></tr></thead><tbody><tr><td>Key</td><td><div class=\"dni-plaintext\"><pre>all</pre></div></td></tr><tr><td>Value</td><td><details class=\"dni-treeview\"><summary><span class=\"dni-code-hint\"><code>Neo4j.Driver.Internal.Types.Node</code></span></summary><div><table><thead><tr></tr></thead><tbody><tr><td>Id</td><td><div class=\"dni-plaintext\"><pre>2</pre></div></td></tr><tr><td>ElementId</td><td><div class=\"dni-plaintext\"><pre>4:9b52f2f1-e63c-44a2-9183-eef64f1743e9:2</pre></div></td></tr><tr><td>Labels</td><td><div class=\"dni-plaintext\"><pre>[ Person ]</pre></div></td></tr><tr><td>Properties</td><td><table><thead><tr><th><i>key</i></th><th><i>type</i></th><th>value</th></tr></thead><tbody><tr><td><div class=\"dni-plaintext\"><pre>name</pre></div></td><td><span><a href=\"https://docs.microsoft.com/dotnet/api/system.string?view=net-7.0\">System.String</a></span></td><td><div class=\"dni-plaintext\"><pre>Andreas</pre></div></td></tr><tr><td><div class=\"dni-plaintext\"><pre>height</pre></div></td><td><span><a href=\"https://docs.microsoft.com/dotnet/api/system.int64?view=net-7.0\">System.Int64</a></span></td><td><div class=\"dni-plaintext\"><pre>186</pre></div></td></tr></tbody></table></td></tr></tbody></table></div></details></td></tr></tbody></table></div></details></td></tr></tbody></table></td></tr></tbody></table></div></details></td></tr></tbody></table><style>\r\n",
       ".dni-code-hint {\r\n",
       "    font-style: italic;\r\n",
       "    overflow: hidden;\r\n",
       "    white-space: nowrap;\r\n",
       "}\r\n",
       ".dni-treeview {\r\n",
       "    white-space: nowrap;\r\n",
       "}\r\n",
       ".dni-treeview td {\r\n",
       "    vertical-align: top;\r\n",
       "    text-align: start;\r\n",
       "}\r\n",
       "details.dni-treeview {\r\n",
       "    padding-left: 1em;\r\n",
       "}\r\n",
       "table td {\r\n",
       "    text-align: start;\r\n",
       "}\r\n",
       "table tr { \r\n",
       "    vertical-align: top; \r\n",
       "    margin: 0em 0px;\r\n",
       "}\r\n",
       "table tr td pre \r\n",
       "{ \r\n",
       "    vertical-align: top !important; \r\n",
       "    margin: 0em 0px !important;\r\n",
       "} \r\n",
       "table th {\r\n",
       "    text-align: start;\r\n",
       "}\r\n",
       "</style>"
      ]
     },
     "metadata": {},
     "output_type": "display_data"
    }
   ],
   "source": [
    "driver.ExecutableQuery(\"MATCH (all) RETURN all\").ExecuteAsync().Result.Result"
   ]
  },
  {
   "cell_type": "markdown",
   "metadata": {},
   "source": [
    "### Find Nodes with a Label\n",
    "\n",
    "You can filter nodes by label by adding the label to the node pattern."
   ]
  },
  {
   "cell_type": "code",
   "execution_count": 17,
   "metadata": {
    "vscode": {
     "languageId": "polyglot-notebook"
    }
   },
   "outputs": [
    {
     "data": {
      "text/html": [
       "<table><thead><tr><th><i>index</i></th><th>value</th></tr></thead><tbody><tr><td>0</td><td><details class=\"dni-treeview\"><summary><span class=\"dni-code-hint\"><code>[ [p, Neo4j.Driver.Internal.Types.Node] ]</code></span></summary><div><table><thead><tr></tr></thead><tbody><tr><td>Keys</td><td><div class=\"dni-plaintext\"><pre>[ p ]</pre></div></td></tr><tr><td>Values</td><td><details class=\"dni-treeview\"><summary><span class=\"dni-code-hint\"><code>[ [p, Neo4j.Driver.Internal.Types.Node] ]</code></span></summary><div><table><thead><tr></tr></thead><tbody><tr><td>Keys</td><td><div class=\"dni-plaintext\"><pre>[ p ]</pre></div></td></tr><tr><td>Values</td><td><details class=\"dni-treeview\"><summary><span class=\"dni-code-hint\"><code>[ [p, Neo4j.Driver.Internal.Types.Node] ]</code></span></summary><div><table><thead><tr></tr></thead><tbody><tr><td>Keys</td><td><div class=\"dni-plaintext\"><pre>[ p ]</pre></div></td></tr><tr><td>Values</td><td><details class=\"dni-treeview\"><summary><span class=\"dni-code-hint\"><code>[ [p, Neo4j.Driver.Internal.Types.Node] ]</code></span></summary><div><table><thead><tr></tr></thead><tbody><tr><td>Keys</td><td><div class=\"dni-plaintext\"><pre>[ p ]</pre></div></td></tr><tr><td>Values</td><td><details class=\"dni-treeview\"><summary><span class=\"dni-code-hint\"><code>[ [p, Neo4j.Driver.Internal.Types.Node] ]</code></span></summary><div><table><thead><tr></tr></thead><tbody><tr><td>Keys</td><td>[ p ]</td></tr><tr><td>Values</td><td>[ [p, Neo4j.Driver.Internal.Types.Node] ]</td></tr><tr><td><i>(values)</i></td><td><table><thead><tr><th><i>index</i></th><th>value</th></tr></thead><tbody><tr><td>0</td><td>[p, Neo4j.Driver.Internal.Types.Node]</td></tr></tbody></table></td></tr></tbody></table></div></details></td></tr><tr><td><i>(values)</i></td><td><table><thead><tr><th><i>index</i></th><th>value</th></tr></thead><tbody><tr><td>0</td><td><details class=\"dni-treeview\"><summary><span class=\"dni-code-hint\"><code>[p, Neo4j.Driver.Internal.Types.Node]</code></span></summary><div><table><thead><tr></tr></thead><tbody><tr><td>Key</td><td>p</td></tr><tr><td>Value</td><td>Neo4j.Driver.Internal.Types.Node</td></tr></tbody></table></div></details></td></tr></tbody></table></td></tr></tbody></table></div></details></td></tr><tr><td><i>(values)</i></td><td><table><thead><tr><th><i>index</i></th><th>value</th></tr></thead><tbody><tr><td>0</td><td><details class=\"dni-treeview\"><summary><span class=\"dni-code-hint\"><code>[p, Neo4j.Driver.Internal.Types.Node]</code></span></summary><div><table><thead><tr></tr></thead><tbody><tr><td>Key</td><td><div class=\"dni-plaintext\"><pre>p</pre></div></td></tr><tr><td>Value</td><td><details class=\"dni-treeview\"><summary><span class=\"dni-code-hint\"><code>Neo4j.Driver.Internal.Types.Node</code></span></summary><div><table><thead><tr></tr></thead><tbody><tr><td>Id</td><td>1</td></tr><tr><td>ElementId</td><td>4:9b52f2f1-e63c-44a2-9183-eef64f1743e9:1</td></tr><tr><td>Labels</td><td>[ Person ]</td></tr><tr><td>Properties</td><td>[  ]</td></tr></tbody></table></div></details></td></tr></tbody></table></div></details></td></tr></tbody></table></td></tr></tbody></table></div></details></td></tr><tr><td><i>(values)</i></td><td><table><thead><tr><th><i>index</i></th><th>value</th></tr></thead><tbody><tr><td>0</td><td><details class=\"dni-treeview\"><summary><span class=\"dni-code-hint\"><code>[p, Neo4j.Driver.Internal.Types.Node]</code></span></summary><div><table><thead><tr></tr></thead><tbody><tr><td>Key</td><td><div class=\"dni-plaintext\"><pre>p</pre></div></td></tr><tr><td>Value</td><td><details class=\"dni-treeview\"><summary><span class=\"dni-code-hint\"><code>Neo4j.Driver.Internal.Types.Node</code></span></summary><div><table><thead><tr></tr></thead><tbody><tr><td>Id</td><td><div class=\"dni-plaintext\"><pre>1</pre></div></td></tr><tr><td>ElementId</td><td><div class=\"dni-plaintext\"><pre>4:9b52f2f1-e63c-44a2-9183-eef64f1743e9:1</pre></div></td></tr><tr><td>Labels</td><td><div class=\"dni-plaintext\"><pre>[ Person ]</pre></div></td></tr><tr><td>Properties</td><td><i>(empty)</i></td></tr></tbody></table></div></details></td></tr></tbody></table></div></details></td></tr></tbody></table></td></tr></tbody></table></div></details></td></tr><tr><td><i>(values)</i></td><td><table><thead><tr><th><i>index</i></th><th>value</th></tr></thead><tbody><tr><td>0</td><td><details class=\"dni-treeview\"><summary><span class=\"dni-code-hint\"><code>[p, Neo4j.Driver.Internal.Types.Node]</code></span></summary><div><table><thead><tr></tr></thead><tbody><tr><td>Key</td><td><div class=\"dni-plaintext\"><pre>p</pre></div></td></tr><tr><td>Value</td><td><details class=\"dni-treeview\"><summary><span class=\"dni-code-hint\"><code>Neo4j.Driver.Internal.Types.Node</code></span></summary><div><table><thead><tr></tr></thead><tbody><tr><td>Id</td><td><div class=\"dni-plaintext\"><pre>1</pre></div></td></tr><tr><td>ElementId</td><td><div class=\"dni-plaintext\"><pre>4:9b52f2f1-e63c-44a2-9183-eef64f1743e9:1</pre></div></td></tr><tr><td>Labels</td><td><div class=\"dni-plaintext\"><pre>[ Person ]</pre></div></td></tr><tr><td>Properties</td><td><i>(empty)</i></td></tr></tbody></table></div></details></td></tr></tbody></table></div></details></td></tr></tbody></table></td></tr></tbody></table></div></details></td></tr><tr><td>1</td><td><details class=\"dni-treeview\"><summary><span class=\"dni-code-hint\"><code>[ [p, Neo4j.Driver.Internal.Types.Node] ]</code></span></summary><div><table><thead><tr></tr></thead><tbody><tr><td>Keys</td><td><div class=\"dni-plaintext\"><pre>[ p ]</pre></div></td></tr><tr><td>Values</td><td><details class=\"dni-treeview\"><summary><span class=\"dni-code-hint\"><code>[ [p, Neo4j.Driver.Internal.Types.Node] ]</code></span></summary><div><table><thead><tr></tr></thead><tbody><tr><td>Keys</td><td><div class=\"dni-plaintext\"><pre>[ p ]</pre></div></td></tr><tr><td>Values</td><td><details class=\"dni-treeview\"><summary><span class=\"dni-code-hint\"><code>[ [p, Neo4j.Driver.Internal.Types.Node] ]</code></span></summary><div><table><thead><tr></tr></thead><tbody><tr><td>Keys</td><td><div class=\"dni-plaintext\"><pre>[ p ]</pre></div></td></tr><tr><td>Values</td><td><details class=\"dni-treeview\"><summary><span class=\"dni-code-hint\"><code>[ [p, Neo4j.Driver.Internal.Types.Node] ]</code></span></summary><div><table><thead><tr></tr></thead><tbody><tr><td>Keys</td><td><div class=\"dni-plaintext\"><pre>[ p ]</pre></div></td></tr><tr><td>Values</td><td><details class=\"dni-treeview\"><summary><span class=\"dni-code-hint\"><code>[ [p, Neo4j.Driver.Internal.Types.Node] ]</code></span></summary><div><table><thead><tr></tr></thead><tbody><tr><td>Keys</td><td>[ p ]</td></tr><tr><td>Values</td><td>[ [p, Neo4j.Driver.Internal.Types.Node] ]</td></tr><tr><td><i>(values)</i></td><td><table><thead><tr><th><i>index</i></th><th>value</th></tr></thead><tbody><tr><td>0</td><td>[p, Neo4j.Driver.Internal.Types.Node]</td></tr></tbody></table></td></tr></tbody></table></div></details></td></tr><tr><td><i>(values)</i></td><td><table><thead><tr><th><i>index</i></th><th>value</th></tr></thead><tbody><tr><td>0</td><td><details class=\"dni-treeview\"><summary><span class=\"dni-code-hint\"><code>[p, Neo4j.Driver.Internal.Types.Node]</code></span></summary><div><table><thead><tr></tr></thead><tbody><tr><td>Key</td><td>p</td></tr><tr><td>Value</td><td>Neo4j.Driver.Internal.Types.Node</td></tr></tbody></table></div></details></td></tr></tbody></table></td></tr></tbody></table></div></details></td></tr><tr><td><i>(values)</i></td><td><table><thead><tr><th><i>index</i></th><th>value</th></tr></thead><tbody><tr><td>0</td><td><details class=\"dni-treeview\"><summary><span class=\"dni-code-hint\"><code>[p, Neo4j.Driver.Internal.Types.Node]</code></span></summary><div><table><thead><tr></tr></thead><tbody><tr><td>Key</td><td><div class=\"dni-plaintext\"><pre>p</pre></div></td></tr><tr><td>Value</td><td><details class=\"dni-treeview\"><summary><span class=\"dni-code-hint\"><code>Neo4j.Driver.Internal.Types.Node</code></span></summary><div><table><thead><tr></tr></thead><tbody><tr><td>Id</td><td>2</td></tr><tr><td>ElementId</td><td>4:9b52f2f1-e63c-44a2-9183-eef64f1743e9:2</td></tr><tr><td>Labels</td><td>[ Person ]</td></tr><tr><td>Properties</td><td>[ [name, Andreas], [height, 186] ]</td></tr></tbody></table></div></details></td></tr></tbody></table></div></details></td></tr></tbody></table></td></tr></tbody></table></div></details></td></tr><tr><td><i>(values)</i></td><td><table><thead><tr><th><i>index</i></th><th>value</th></tr></thead><tbody><tr><td>0</td><td><details class=\"dni-treeview\"><summary><span class=\"dni-code-hint\"><code>[p, Neo4j.Driver.Internal.Types.Node]</code></span></summary><div><table><thead><tr></tr></thead><tbody><tr><td>Key</td><td><div class=\"dni-plaintext\"><pre>p</pre></div></td></tr><tr><td>Value</td><td><details class=\"dni-treeview\"><summary><span class=\"dni-code-hint\"><code>Neo4j.Driver.Internal.Types.Node</code></span></summary><div><table><thead><tr></tr></thead><tbody><tr><td>Id</td><td><div class=\"dni-plaintext\"><pre>2</pre></div></td></tr><tr><td>ElementId</td><td><div class=\"dni-plaintext\"><pre>4:9b52f2f1-e63c-44a2-9183-eef64f1743e9:2</pre></div></td></tr><tr><td>Labels</td><td><div class=\"dni-plaintext\"><pre>[ Person ]</pre></div></td></tr><tr><td>Properties</td><td><table><thead><tr><th><i>key</i></th><th><i>type</i></th><th>value</th></tr></thead><tbody><tr><td><div class=\"dni-plaintext\"><pre>name</pre></div></td><td>System.String</td><td><div class=\"dni-plaintext\"><pre>Andreas</pre></div></td></tr><tr><td><div class=\"dni-plaintext\"><pre>height</pre></div></td><td>System.Int64</td><td>186</td></tr></tbody></table></td></tr></tbody></table></div></details></td></tr></tbody></table></div></details></td></tr></tbody></table></td></tr></tbody></table></div></details></td></tr><tr><td><i>(values)</i></td><td><table><thead><tr><th><i>index</i></th><th>value</th></tr></thead><tbody><tr><td>0</td><td><details class=\"dni-treeview\"><summary><span class=\"dni-code-hint\"><code>[p, Neo4j.Driver.Internal.Types.Node]</code></span></summary><div><table><thead><tr></tr></thead><tbody><tr><td>Key</td><td><div class=\"dni-plaintext\"><pre>p</pre></div></td></tr><tr><td>Value</td><td><details class=\"dni-treeview\"><summary><span class=\"dni-code-hint\"><code>Neo4j.Driver.Internal.Types.Node</code></span></summary><div><table><thead><tr></tr></thead><tbody><tr><td>Id</td><td><div class=\"dni-plaintext\"><pre>2</pre></div></td></tr><tr><td>ElementId</td><td><div class=\"dni-plaintext\"><pre>4:9b52f2f1-e63c-44a2-9183-eef64f1743e9:2</pre></div></td></tr><tr><td>Labels</td><td><div class=\"dni-plaintext\"><pre>[ Person ]</pre></div></td></tr><tr><td>Properties</td><td><table><thead><tr><th><i>key</i></th><th><i>type</i></th><th>value</th></tr></thead><tbody><tr><td><div class=\"dni-plaintext\"><pre>name</pre></div></td><td><span><a href=\"https://docs.microsoft.com/dotnet/api/system.string?view=net-7.0\">System.String</a></span></td><td><div class=\"dni-plaintext\"><pre>Andreas</pre></div></td></tr><tr><td><div class=\"dni-plaintext\"><pre>height</pre></div></td><td><span><a href=\"https://docs.microsoft.com/dotnet/api/system.int64?view=net-7.0\">System.Int64</a></span></td><td><div class=\"dni-plaintext\"><pre>186</pre></div></td></tr></tbody></table></td></tr></tbody></table></div></details></td></tr></tbody></table></div></details></td></tr></tbody></table></td></tr></tbody></table></div></details></td></tr></tbody></table><style>\r\n",
       ".dni-code-hint {\r\n",
       "    font-style: italic;\r\n",
       "    overflow: hidden;\r\n",
       "    white-space: nowrap;\r\n",
       "}\r\n",
       ".dni-treeview {\r\n",
       "    white-space: nowrap;\r\n",
       "}\r\n",
       ".dni-treeview td {\r\n",
       "    vertical-align: top;\r\n",
       "    text-align: start;\r\n",
       "}\r\n",
       "details.dni-treeview {\r\n",
       "    padding-left: 1em;\r\n",
       "}\r\n",
       "table td {\r\n",
       "    text-align: start;\r\n",
       "}\r\n",
       "table tr { \r\n",
       "    vertical-align: top; \r\n",
       "    margin: 0em 0px;\r\n",
       "}\r\n",
       "table tr td pre \r\n",
       "{ \r\n",
       "    vertical-align: top !important; \r\n",
       "    margin: 0em 0px !important;\r\n",
       "} \r\n",
       "table th {\r\n",
       "    text-align: start;\r\n",
       "}\r\n",
       "</style>"
      ]
     },
     "metadata": {},
     "output_type": "display_data"
    }
   ],
   "source": [
    "driver.ExecutableQuery(\"MATCH (p:Person) RETURN p\").ExecuteAsync().Result.Result"
   ]
  },
  {
   "cell_type": "markdown",
   "metadata": {},
   "source": [
    "### Find Nodes with Properties\n",
    "\n",
    "You can filter nodes by properties by adding the property to the node pattern."
   ]
  },
  {
   "cell_type": "code",
   "execution_count": 22,
   "metadata": {
    "vscode": {
     "languageId": "polyglot-notebook"
    }
   },
   "outputs": [
    {
     "data": {
      "text/html": [
       "<table><thead><tr><th><i>index</i></th><th>value</th></tr></thead><tbody><tr><td>0</td><td><details class=\"dni-treeview\"><summary><span class=\"dni-code-hint\"><code>[ [andreas, Neo4j.Driver.Internal.Types.Node] ]</code></span></summary><div><table><thead><tr></tr></thead><tbody><tr><td>Keys</td><td><div class=\"dni-plaintext\"><pre>[ andreas ]</pre></div></td></tr><tr><td>Values</td><td><details class=\"dni-treeview\"><summary><span class=\"dni-code-hint\"><code>[ [andreas, Neo4j.Driver.Internal.Types.Node] ]</code></span></summary><div><table><thead><tr></tr></thead><tbody><tr><td>Keys</td><td><div class=\"dni-plaintext\"><pre>[ andreas ]</pre></div></td></tr><tr><td>Values</td><td><details class=\"dni-treeview\"><summary><span class=\"dni-code-hint\"><code>[ [andreas, Neo4j.Driver.Internal.Types.Node] ]</code></span></summary><div><table><thead><tr></tr></thead><tbody><tr><td>Keys</td><td><div class=\"dni-plaintext\"><pre>[ andreas ]</pre></div></td></tr><tr><td>Values</td><td><details class=\"dni-treeview\"><summary><span class=\"dni-code-hint\"><code>[ [andreas, Neo4j.Driver.Internal.Types.Node] ]</code></span></summary><div><table><thead><tr></tr></thead><tbody><tr><td>Keys</td><td><div class=\"dni-plaintext\"><pre>[ andreas ]</pre></div></td></tr><tr><td>Values</td><td><details class=\"dni-treeview\"><summary><span class=\"dni-code-hint\"><code>[ [andreas, Neo4j.Driver.Internal.Types.Node] ]</code></span></summary><div><table><thead><tr></tr></thead><tbody><tr><td>Keys</td><td>[ andreas ]</td></tr><tr><td>Values</td><td>[ [andreas, Neo4j.Driver.Internal.Types.Node] ]</td></tr><tr><td><i>(values)</i></td><td><table><thead><tr><th><i>index</i></th><th>value</th></tr></thead><tbody><tr><td>0</td><td>[andreas, Neo4j.Driver.Internal.Types.Node]</td></tr></tbody></table></td></tr></tbody></table></div></details></td></tr><tr><td><i>(values)</i></td><td><table><thead><tr><th><i>index</i></th><th>value</th></tr></thead><tbody><tr><td>0</td><td><details class=\"dni-treeview\"><summary><span class=\"dni-code-hint\"><code>[andreas, Neo4j.Driver.Internal.Types.Node]</code></span></summary><div><table><thead><tr></tr></thead><tbody><tr><td>Key</td><td>andreas</td></tr><tr><td>Value</td><td>Neo4j.Driver.Internal.Types.Node</td></tr></tbody></table></div></details></td></tr></tbody></table></td></tr></tbody></table></div></details></td></tr><tr><td><i>(values)</i></td><td><table><thead><tr><th><i>index</i></th><th>value</th></tr></thead><tbody><tr><td>0</td><td><details class=\"dni-treeview\"><summary><span class=\"dni-code-hint\"><code>[andreas, Neo4j.Driver.Internal.Types.Node]</code></span></summary><div><table><thead><tr></tr></thead><tbody><tr><td>Key</td><td><div class=\"dni-plaintext\"><pre>andreas</pre></div></td></tr><tr><td>Value</td><td><details class=\"dni-treeview\"><summary><span class=\"dni-code-hint\"><code>Neo4j.Driver.Internal.Types.Node</code></span></summary><div><table><thead><tr></tr></thead><tbody><tr><td>Id</td><td>2</td></tr><tr><td>ElementId</td><td>4:9b52f2f1-e63c-44a2-9183-eef64f1743e9:2</td></tr><tr><td>Labels</td><td>[ Person ]</td></tr><tr><td>Properties</td><td>[ [name, Andreas], [height, 186] ]</td></tr></tbody></table></div></details></td></tr></tbody></table></div></details></td></tr></tbody></table></td></tr></tbody></table></div></details></td></tr><tr><td><i>(values)</i></td><td><table><thead><tr><th><i>index</i></th><th>value</th></tr></thead><tbody><tr><td>0</td><td><details class=\"dni-treeview\"><summary><span class=\"dni-code-hint\"><code>[andreas, Neo4j.Driver.Internal.Types.Node]</code></span></summary><div><table><thead><tr></tr></thead><tbody><tr><td>Key</td><td><div class=\"dni-plaintext\"><pre>andreas</pre></div></td></tr><tr><td>Value</td><td><details class=\"dni-treeview\"><summary><span class=\"dni-code-hint\"><code>Neo4j.Driver.Internal.Types.Node</code></span></summary><div><table><thead><tr></tr></thead><tbody><tr><td>Id</td><td><div class=\"dni-plaintext\"><pre>2</pre></div></td></tr><tr><td>ElementId</td><td><div class=\"dni-plaintext\"><pre>4:9b52f2f1-e63c-44a2-9183-eef64f1743e9:2</pre></div></td></tr><tr><td>Labels</td><td><div class=\"dni-plaintext\"><pre>[ Person ]</pre></div></td></tr><tr><td>Properties</td><td><table><thead><tr><th><i>key</i></th><th><i>type</i></th><th>value</th></tr></thead><tbody><tr><td><div class=\"dni-plaintext\"><pre>name</pre></div></td><td>System.String</td><td><div class=\"dni-plaintext\"><pre>Andreas</pre></div></td></tr><tr><td><div class=\"dni-plaintext\"><pre>height</pre></div></td><td>System.Int64</td><td>186</td></tr></tbody></table></td></tr></tbody></table></div></details></td></tr></tbody></table></div></details></td></tr></tbody></table></td></tr></tbody></table></div></details></td></tr><tr><td><i>(values)</i></td><td><table><thead><tr><th><i>index</i></th><th>value</th></tr></thead><tbody><tr><td>0</td><td><details class=\"dni-treeview\"><summary><span class=\"dni-code-hint\"><code>[andreas, Neo4j.Driver.Internal.Types.Node]</code></span></summary><div><table><thead><tr></tr></thead><tbody><tr><td>Key</td><td><div class=\"dni-plaintext\"><pre>andreas</pre></div></td></tr><tr><td>Value</td><td><details class=\"dni-treeview\"><summary><span class=\"dni-code-hint\"><code>Neo4j.Driver.Internal.Types.Node</code></span></summary><div><table><thead><tr></tr></thead><tbody><tr><td>Id</td><td><div class=\"dni-plaintext\"><pre>2</pre></div></td></tr><tr><td>ElementId</td><td><div class=\"dni-plaintext\"><pre>4:9b52f2f1-e63c-44a2-9183-eef64f1743e9:2</pre></div></td></tr><tr><td>Labels</td><td><div class=\"dni-plaintext\"><pre>[ Person ]</pre></div></td></tr><tr><td>Properties</td><td><table><thead><tr><th><i>key</i></th><th><i>type</i></th><th>value</th></tr></thead><tbody><tr><td><div class=\"dni-plaintext\"><pre>name</pre></div></td><td><span><a href=\"https://docs.microsoft.com/dotnet/api/system.string?view=net-7.0\">System.String</a></span></td><td><div class=\"dni-plaintext\"><pre>Andreas</pre></div></td></tr><tr><td><div class=\"dni-plaintext\"><pre>height</pre></div></td><td><span><a href=\"https://docs.microsoft.com/dotnet/api/system.int64?view=net-7.0\">System.Int64</a></span></td><td><div class=\"dni-plaintext\"><pre>186</pre></div></td></tr></tbody></table></td></tr></tbody></table></div></details></td></tr></tbody></table></div></details></td></tr></tbody></table></td></tr></tbody></table></div></details></td></tr><tr><td>1</td><td><details class=\"dni-treeview\"><summary><span class=\"dni-code-hint\"><code>[ [andreas, Neo4j.Driver.Internal.Types.Node] ]</code></span></summary><div><table><thead><tr></tr></thead><tbody><tr><td>Keys</td><td><div class=\"dni-plaintext\"><pre>[ andreas ]</pre></div></td></tr><tr><td>Values</td><td><details class=\"dni-treeview\"><summary><span class=\"dni-code-hint\"><code>[ [andreas, Neo4j.Driver.Internal.Types.Node] ]</code></span></summary><div><table><thead><tr></tr></thead><tbody><tr><td>Keys</td><td><div class=\"dni-plaintext\"><pre>[ andreas ]</pre></div></td></tr><tr><td>Values</td><td><details class=\"dni-treeview\"><summary><span class=\"dni-code-hint\"><code>[ [andreas, Neo4j.Driver.Internal.Types.Node] ]</code></span></summary><div><table><thead><tr></tr></thead><tbody><tr><td>Keys</td><td><div class=\"dni-plaintext\"><pre>[ andreas ]</pre></div></td></tr><tr><td>Values</td><td><details class=\"dni-treeview\"><summary><span class=\"dni-code-hint\"><code>[ [andreas, Neo4j.Driver.Internal.Types.Node] ]</code></span></summary><div><table><thead><tr></tr></thead><tbody><tr><td>Keys</td><td><div class=\"dni-plaintext\"><pre>[ andreas ]</pre></div></td></tr><tr><td>Values</td><td><details class=\"dni-treeview\"><summary><span class=\"dni-code-hint\"><code>[ [andreas, Neo4j.Driver.Internal.Types.Node] ]</code></span></summary><div><table><thead><tr></tr></thead><tbody><tr><td>Keys</td><td>[ andreas ]</td></tr><tr><td>Values</td><td>[ [andreas, Neo4j.Driver.Internal.Types.Node] ]</td></tr><tr><td><i>(values)</i></td><td><table><thead><tr><th><i>index</i></th><th>value</th></tr></thead><tbody><tr><td>0</td><td>[andreas, Neo4j.Driver.Internal.Types.Node]</td></tr></tbody></table></td></tr></tbody></table></div></details></td></tr><tr><td><i>(values)</i></td><td><table><thead><tr><th><i>index</i></th><th>value</th></tr></thead><tbody><tr><td>0</td><td><details class=\"dni-treeview\"><summary><span class=\"dni-code-hint\"><code>[andreas, Neo4j.Driver.Internal.Types.Node]</code></span></summary><div><table><thead><tr></tr></thead><tbody><tr><td>Key</td><td>andreas</td></tr><tr><td>Value</td><td>Neo4j.Driver.Internal.Types.Node</td></tr></tbody></table></div></details></td></tr></tbody></table></td></tr></tbody></table></div></details></td></tr><tr><td><i>(values)</i></td><td><table><thead><tr><th><i>index</i></th><th>value</th></tr></thead><tbody><tr><td>0</td><td><details class=\"dni-treeview\"><summary><span class=\"dni-code-hint\"><code>[andreas, Neo4j.Driver.Internal.Types.Node]</code></span></summary><div><table><thead><tr></tr></thead><tbody><tr><td>Key</td><td><div class=\"dni-plaintext\"><pre>andreas</pre></div></td></tr><tr><td>Value</td><td><details class=\"dni-treeview\"><summary><span class=\"dni-code-hint\"><code>Neo4j.Driver.Internal.Types.Node</code></span></summary><div><table><thead><tr></tr></thead><tbody><tr><td>Id</td><td>3</td></tr><tr><td>ElementId</td><td>4:9b52f2f1-e63c-44a2-9183-eef64f1743e9:3</td></tr><tr><td>Labels</td><td>[ Person ]</td></tr><tr><td>Properties</td><td>[ [name, Andreas], [height, 186] ]</td></tr></tbody></table></div></details></td></tr></tbody></table></div></details></td></tr></tbody></table></td></tr></tbody></table></div></details></td></tr><tr><td><i>(values)</i></td><td><table><thead><tr><th><i>index</i></th><th>value</th></tr></thead><tbody><tr><td>0</td><td><details class=\"dni-treeview\"><summary><span class=\"dni-code-hint\"><code>[andreas, Neo4j.Driver.Internal.Types.Node]</code></span></summary><div><table><thead><tr></tr></thead><tbody><tr><td>Key</td><td><div class=\"dni-plaintext\"><pre>andreas</pre></div></td></tr><tr><td>Value</td><td><details class=\"dni-treeview\"><summary><span class=\"dni-code-hint\"><code>Neo4j.Driver.Internal.Types.Node</code></span></summary><div><table><thead><tr></tr></thead><tbody><tr><td>Id</td><td><div class=\"dni-plaintext\"><pre>3</pre></div></td></tr><tr><td>ElementId</td><td><div class=\"dni-plaintext\"><pre>4:9b52f2f1-e63c-44a2-9183-eef64f1743e9:3</pre></div></td></tr><tr><td>Labels</td><td><div class=\"dni-plaintext\"><pre>[ Person ]</pre></div></td></tr><tr><td>Properties</td><td><table><thead><tr><th><i>key</i></th><th><i>type</i></th><th>value</th></tr></thead><tbody><tr><td><div class=\"dni-plaintext\"><pre>name</pre></div></td><td>System.String</td><td><div class=\"dni-plaintext\"><pre>Andreas</pre></div></td></tr><tr><td><div class=\"dni-plaintext\"><pre>height</pre></div></td><td>System.Int64</td><td>186</td></tr></tbody></table></td></tr></tbody></table></div></details></td></tr></tbody></table></div></details></td></tr></tbody></table></td></tr></tbody></table></div></details></td></tr><tr><td><i>(values)</i></td><td><table><thead><tr><th><i>index</i></th><th>value</th></tr></thead><tbody><tr><td>0</td><td><details class=\"dni-treeview\"><summary><span class=\"dni-code-hint\"><code>[andreas, Neo4j.Driver.Internal.Types.Node]</code></span></summary><div><table><thead><tr></tr></thead><tbody><tr><td>Key</td><td><div class=\"dni-plaintext\"><pre>andreas</pre></div></td></tr><tr><td>Value</td><td><details class=\"dni-treeview\"><summary><span class=\"dni-code-hint\"><code>Neo4j.Driver.Internal.Types.Node</code></span></summary><div><table><thead><tr></tr></thead><tbody><tr><td>Id</td><td><div class=\"dni-plaintext\"><pre>3</pre></div></td></tr><tr><td>ElementId</td><td><div class=\"dni-plaintext\"><pre>4:9b52f2f1-e63c-44a2-9183-eef64f1743e9:3</pre></div></td></tr><tr><td>Labels</td><td><div class=\"dni-plaintext\"><pre>[ Person ]</pre></div></td></tr><tr><td>Properties</td><td><table><thead><tr><th><i>key</i></th><th><i>type</i></th><th>value</th></tr></thead><tbody><tr><td><div class=\"dni-plaintext\"><pre>name</pre></div></td><td><span><a href=\"https://docs.microsoft.com/dotnet/api/system.string?view=net-7.0\">System.String</a></span></td><td><div class=\"dni-plaintext\"><pre>Andreas</pre></div></td></tr><tr><td><div class=\"dni-plaintext\"><pre>height</pre></div></td><td><span><a href=\"https://docs.microsoft.com/dotnet/api/system.int64?view=net-7.0\">System.Int64</a></span></td><td><div class=\"dni-plaintext\"><pre>186</pre></div></td></tr></tbody></table></td></tr></tbody></table></div></details></td></tr></tbody></table></div></details></td></tr></tbody></table></td></tr></tbody></table></div></details></td></tr></tbody></table><style>\r\n",
       ".dni-code-hint {\r\n",
       "    font-style: italic;\r\n",
       "    overflow: hidden;\r\n",
       "    white-space: nowrap;\r\n",
       "}\r\n",
       ".dni-treeview {\r\n",
       "    white-space: nowrap;\r\n",
       "}\r\n",
       ".dni-treeview td {\r\n",
       "    vertical-align: top;\r\n",
       "    text-align: start;\r\n",
       "}\r\n",
       "details.dni-treeview {\r\n",
       "    padding-left: 1em;\r\n",
       "}\r\n",
       "table td {\r\n",
       "    text-align: start;\r\n",
       "}\r\n",
       "table tr { \r\n",
       "    vertical-align: top; \r\n",
       "    margin: 0em 0px;\r\n",
       "}\r\n",
       "table tr td pre \r\n",
       "{ \r\n",
       "    vertical-align: top !important; \r\n",
       "    margin: 0em 0px !important;\r\n",
       "} \r\n",
       "table th {\r\n",
       "    text-align: start;\r\n",
       "}\r\n",
       "</style>"
      ]
     },
     "metadata": {},
     "output_type": "display_data"
    }
   ],
   "source": [
    "driver.ExecutableQuery(\"MATCH (andreas:Person {name:'Andreas'}) RETURN andreas\").ExecuteAsync().Result.Result"
   ]
  },
  {
   "cell_type": "markdown",
   "metadata": {},
   "source": [
    "### Find Nodes using a `WHERE` clause\n",
    "\n",
    "The `WHERE` clause allows you to filter results based on conditions."
   ]
  },
  {
   "cell_type": "code",
   "execution_count": 23,
   "metadata": {
    "vscode": {
     "languageId": "polyglot-notebook"
    }
   },
   "outputs": [
    {
     "data": {
      "text/html": [
       "<table><thead><tr><th><i>index</i></th><th>value</th></tr></thead><tbody><tr><td>0</td><td><details class=\"dni-treeview\"><summary><span class=\"dni-code-hint\"><code>[ [a, Neo4j.Driver.Internal.Types.Node] ]</code></span></summary><div><table><thead><tr></tr></thead><tbody><tr><td>Keys</td><td><div class=\"dni-plaintext\"><pre>[ a ]</pre></div></td></tr><tr><td>Values</td><td><details class=\"dni-treeview\"><summary><span class=\"dni-code-hint\"><code>[ [a, Neo4j.Driver.Internal.Types.Node] ]</code></span></summary><div><table><thead><tr></tr></thead><tbody><tr><td>Keys</td><td><div class=\"dni-plaintext\"><pre>[ a ]</pre></div></td></tr><tr><td>Values</td><td><details class=\"dni-treeview\"><summary><span class=\"dni-code-hint\"><code>[ [a, Neo4j.Driver.Internal.Types.Node] ]</code></span></summary><div><table><thead><tr></tr></thead><tbody><tr><td>Keys</td><td><div class=\"dni-plaintext\"><pre>[ a ]</pre></div></td></tr><tr><td>Values</td><td><details class=\"dni-treeview\"><summary><span class=\"dni-code-hint\"><code>[ [a, Neo4j.Driver.Internal.Types.Node] ]</code></span></summary><div><table><thead><tr></tr></thead><tbody><tr><td>Keys</td><td><div class=\"dni-plaintext\"><pre>[ a ]</pre></div></td></tr><tr><td>Values</td><td><details class=\"dni-treeview\"><summary><span class=\"dni-code-hint\"><code>[ [a, Neo4j.Driver.Internal.Types.Node] ]</code></span></summary><div><table><thead><tr></tr></thead><tbody><tr><td>Keys</td><td>[ a ]</td></tr><tr><td>Values</td><td>[ [a, Neo4j.Driver.Internal.Types.Node] ]</td></tr><tr><td><i>(values)</i></td><td><table><thead><tr><th><i>index</i></th><th>value</th></tr></thead><tbody><tr><td>0</td><td>[a, Neo4j.Driver.Internal.Types.Node]</td></tr></tbody></table></td></tr></tbody></table></div></details></td></tr><tr><td><i>(values)</i></td><td><table><thead><tr><th><i>index</i></th><th>value</th></tr></thead><tbody><tr><td>0</td><td><details class=\"dni-treeview\"><summary><span class=\"dni-code-hint\"><code>[a, Neo4j.Driver.Internal.Types.Node]</code></span></summary><div><table><thead><tr></tr></thead><tbody><tr><td>Key</td><td>a</td></tr><tr><td>Value</td><td>Neo4j.Driver.Internal.Types.Node</td></tr></tbody></table></div></details></td></tr></tbody></table></td></tr></tbody></table></div></details></td></tr><tr><td><i>(values)</i></td><td><table><thead><tr><th><i>index</i></th><th>value</th></tr></thead><tbody><tr><td>0</td><td><details class=\"dni-treeview\"><summary><span class=\"dni-code-hint\"><code>[a, Neo4j.Driver.Internal.Types.Node]</code></span></summary><div><table><thead><tr></tr></thead><tbody><tr><td>Key</td><td><div class=\"dni-plaintext\"><pre>a</pre></div></td></tr><tr><td>Value</td><td><details class=\"dni-treeview\"><summary><span class=\"dni-code-hint\"><code>Neo4j.Driver.Internal.Types.Node</code></span></summary><div><table><thead><tr></tr></thead><tbody><tr><td>Id</td><td>2</td></tr><tr><td>ElementId</td><td>4:9b52f2f1-e63c-44a2-9183-eef64f1743e9:2</td></tr><tr><td>Labels</td><td>[ Person ]</td></tr><tr><td>Properties</td><td>[ [name, Andreas], [height, 186] ]</td></tr></tbody></table></div></details></td></tr></tbody></table></div></details></td></tr></tbody></table></td></tr></tbody></table></div></details></td></tr><tr><td><i>(values)</i></td><td><table><thead><tr><th><i>index</i></th><th>value</th></tr></thead><tbody><tr><td>0</td><td><details class=\"dni-treeview\"><summary><span class=\"dni-code-hint\"><code>[a, Neo4j.Driver.Internal.Types.Node]</code></span></summary><div><table><thead><tr></tr></thead><tbody><tr><td>Key</td><td><div class=\"dni-plaintext\"><pre>a</pre></div></td></tr><tr><td>Value</td><td><details class=\"dni-treeview\"><summary><span class=\"dni-code-hint\"><code>Neo4j.Driver.Internal.Types.Node</code></span></summary><div><table><thead><tr></tr></thead><tbody><tr><td>Id</td><td><div class=\"dni-plaintext\"><pre>2</pre></div></td></tr><tr><td>ElementId</td><td><div class=\"dni-plaintext\"><pre>4:9b52f2f1-e63c-44a2-9183-eef64f1743e9:2</pre></div></td></tr><tr><td>Labels</td><td><div class=\"dni-plaintext\"><pre>[ Person ]</pre></div></td></tr><tr><td>Properties</td><td><table><thead><tr><th><i>key</i></th><th><i>type</i></th><th>value</th></tr></thead><tbody><tr><td><div class=\"dni-plaintext\"><pre>name</pre></div></td><td>System.String</td><td><div class=\"dni-plaintext\"><pre>Andreas</pre></div></td></tr><tr><td><div class=\"dni-plaintext\"><pre>height</pre></div></td><td>System.Int64</td><td>186</td></tr></tbody></table></td></tr></tbody></table></div></details></td></tr></tbody></table></div></details></td></tr></tbody></table></td></tr></tbody></table></div></details></td></tr><tr><td><i>(values)</i></td><td><table><thead><tr><th><i>index</i></th><th>value</th></tr></thead><tbody><tr><td>0</td><td><details class=\"dni-treeview\"><summary><span class=\"dni-code-hint\"><code>[a, Neo4j.Driver.Internal.Types.Node]</code></span></summary><div><table><thead><tr></tr></thead><tbody><tr><td>Key</td><td><div class=\"dni-plaintext\"><pre>a</pre></div></td></tr><tr><td>Value</td><td><details class=\"dni-treeview\"><summary><span class=\"dni-code-hint\"><code>Neo4j.Driver.Internal.Types.Node</code></span></summary><div><table><thead><tr></tr></thead><tbody><tr><td>Id</td><td><div class=\"dni-plaintext\"><pre>2</pre></div></td></tr><tr><td>ElementId</td><td><div class=\"dni-plaintext\"><pre>4:9b52f2f1-e63c-44a2-9183-eef64f1743e9:2</pre></div></td></tr><tr><td>Labels</td><td><div class=\"dni-plaintext\"><pre>[ Person ]</pre></div></td></tr><tr><td>Properties</td><td><table><thead><tr><th><i>key</i></th><th><i>type</i></th><th>value</th></tr></thead><tbody><tr><td><div class=\"dni-plaintext\"><pre>name</pre></div></td><td><span><a href=\"https://docs.microsoft.com/dotnet/api/system.string?view=net-7.0\">System.String</a></span></td><td><div class=\"dni-plaintext\"><pre>Andreas</pre></div></td></tr><tr><td><div class=\"dni-plaintext\"><pre>height</pre></div></td><td><span><a href=\"https://docs.microsoft.com/dotnet/api/system.int64?view=net-7.0\">System.Int64</a></span></td><td><div class=\"dni-plaintext\"><pre>186</pre></div></td></tr></tbody></table></td></tr></tbody></table></div></details></td></tr></tbody></table></div></details></td></tr></tbody></table></td></tr></tbody></table></div></details></td></tr><tr><td>1</td><td><details class=\"dni-treeview\"><summary><span class=\"dni-code-hint\"><code>[ [a, Neo4j.Driver.Internal.Types.Node] ]</code></span></summary><div><table><thead><tr></tr></thead><tbody><tr><td>Keys</td><td><div class=\"dni-plaintext\"><pre>[ a ]</pre></div></td></tr><tr><td>Values</td><td><details class=\"dni-treeview\"><summary><span class=\"dni-code-hint\"><code>[ [a, Neo4j.Driver.Internal.Types.Node] ]</code></span></summary><div><table><thead><tr></tr></thead><tbody><tr><td>Keys</td><td><div class=\"dni-plaintext\"><pre>[ a ]</pre></div></td></tr><tr><td>Values</td><td><details class=\"dni-treeview\"><summary><span class=\"dni-code-hint\"><code>[ [a, Neo4j.Driver.Internal.Types.Node] ]</code></span></summary><div><table><thead><tr></tr></thead><tbody><tr><td>Keys</td><td><div class=\"dni-plaintext\"><pre>[ a ]</pre></div></td></tr><tr><td>Values</td><td><details class=\"dni-treeview\"><summary><span class=\"dni-code-hint\"><code>[ [a, Neo4j.Driver.Internal.Types.Node] ]</code></span></summary><div><table><thead><tr></tr></thead><tbody><tr><td>Keys</td><td><div class=\"dni-plaintext\"><pre>[ a ]</pre></div></td></tr><tr><td>Values</td><td><details class=\"dni-treeview\"><summary><span class=\"dni-code-hint\"><code>[ [a, Neo4j.Driver.Internal.Types.Node] ]</code></span></summary><div><table><thead><tr></tr></thead><tbody><tr><td>Keys</td><td>[ a ]</td></tr><tr><td>Values</td><td>[ [a, Neo4j.Driver.Internal.Types.Node] ]</td></tr><tr><td><i>(values)</i></td><td><table><thead><tr><th><i>index</i></th><th>value</th></tr></thead><tbody><tr><td>0</td><td>[a, Neo4j.Driver.Internal.Types.Node]</td></tr></tbody></table></td></tr></tbody></table></div></details></td></tr><tr><td><i>(values)</i></td><td><table><thead><tr><th><i>index</i></th><th>value</th></tr></thead><tbody><tr><td>0</td><td><details class=\"dni-treeview\"><summary><span class=\"dni-code-hint\"><code>[a, Neo4j.Driver.Internal.Types.Node]</code></span></summary><div><table><thead><tr></tr></thead><tbody><tr><td>Key</td><td>a</td></tr><tr><td>Value</td><td>Neo4j.Driver.Internal.Types.Node</td></tr></tbody></table></div></details></td></tr></tbody></table></td></tr></tbody></table></div></details></td></tr><tr><td><i>(values)</i></td><td><table><thead><tr><th><i>index</i></th><th>value</th></tr></thead><tbody><tr><td>0</td><td><details class=\"dni-treeview\"><summary><span class=\"dni-code-hint\"><code>[a, Neo4j.Driver.Internal.Types.Node]</code></span></summary><div><table><thead><tr></tr></thead><tbody><tr><td>Key</td><td><div class=\"dni-plaintext\"><pre>a</pre></div></td></tr><tr><td>Value</td><td><details class=\"dni-treeview\"><summary><span class=\"dni-code-hint\"><code>Neo4j.Driver.Internal.Types.Node</code></span></summary><div><table><thead><tr></tr></thead><tbody><tr><td>Id</td><td>3</td></tr><tr><td>ElementId</td><td>4:9b52f2f1-e63c-44a2-9183-eef64f1743e9:3</td></tr><tr><td>Labels</td><td>[ Person ]</td></tr><tr><td>Properties</td><td>[ [name, Andreas], [height, 186] ]</td></tr></tbody></table></div></details></td></tr></tbody></table></div></details></td></tr></tbody></table></td></tr></tbody></table></div></details></td></tr><tr><td><i>(values)</i></td><td><table><thead><tr><th><i>index</i></th><th>value</th></tr></thead><tbody><tr><td>0</td><td><details class=\"dni-treeview\"><summary><span class=\"dni-code-hint\"><code>[a, Neo4j.Driver.Internal.Types.Node]</code></span></summary><div><table><thead><tr></tr></thead><tbody><tr><td>Key</td><td><div class=\"dni-plaintext\"><pre>a</pre></div></td></tr><tr><td>Value</td><td><details class=\"dni-treeview\"><summary><span class=\"dni-code-hint\"><code>Neo4j.Driver.Internal.Types.Node</code></span></summary><div><table><thead><tr></tr></thead><tbody><tr><td>Id</td><td><div class=\"dni-plaintext\"><pre>3</pre></div></td></tr><tr><td>ElementId</td><td><div class=\"dni-plaintext\"><pre>4:9b52f2f1-e63c-44a2-9183-eef64f1743e9:3</pre></div></td></tr><tr><td>Labels</td><td><div class=\"dni-plaintext\"><pre>[ Person ]</pre></div></td></tr><tr><td>Properties</td><td><table><thead><tr><th><i>key</i></th><th><i>type</i></th><th>value</th></tr></thead><tbody><tr><td><div class=\"dni-plaintext\"><pre>name</pre></div></td><td>System.String</td><td><div class=\"dni-plaintext\"><pre>Andreas</pre></div></td></tr><tr><td><div class=\"dni-plaintext\"><pre>height</pre></div></td><td>System.Int64</td><td>186</td></tr></tbody></table></td></tr></tbody></table></div></details></td></tr></tbody></table></div></details></td></tr></tbody></table></td></tr></tbody></table></div></details></td></tr><tr><td><i>(values)</i></td><td><table><thead><tr><th><i>index</i></th><th>value</th></tr></thead><tbody><tr><td>0</td><td><details class=\"dni-treeview\"><summary><span class=\"dni-code-hint\"><code>[a, Neo4j.Driver.Internal.Types.Node]</code></span></summary><div><table><thead><tr></tr></thead><tbody><tr><td>Key</td><td><div class=\"dni-plaintext\"><pre>a</pre></div></td></tr><tr><td>Value</td><td><details class=\"dni-treeview\"><summary><span class=\"dni-code-hint\"><code>Neo4j.Driver.Internal.Types.Node</code></span></summary><div><table><thead><tr></tr></thead><tbody><tr><td>Id</td><td><div class=\"dni-plaintext\"><pre>3</pre></div></td></tr><tr><td>ElementId</td><td><div class=\"dni-plaintext\"><pre>4:9b52f2f1-e63c-44a2-9183-eef64f1743e9:3</pre></div></td></tr><tr><td>Labels</td><td><div class=\"dni-plaintext\"><pre>[ Person ]</pre></div></td></tr><tr><td>Properties</td><td><table><thead><tr><th><i>key</i></th><th><i>type</i></th><th>value</th></tr></thead><tbody><tr><td><div class=\"dni-plaintext\"><pre>name</pre></div></td><td><span><a href=\"https://docs.microsoft.com/dotnet/api/system.string?view=net-7.0\">System.String</a></span></td><td><div class=\"dni-plaintext\"><pre>Andreas</pre></div></td></tr><tr><td><div class=\"dni-plaintext\"><pre>height</pre></div></td><td><span><a href=\"https://docs.microsoft.com/dotnet/api/system.int64?view=net-7.0\">System.Int64</a></span></td><td><div class=\"dni-plaintext\"><pre>186</pre></div></td></tr></tbody></table></td></tr></tbody></table></div></details></td></tr></tbody></table></div></details></td></tr></tbody></table></td></tr></tbody></table></div></details></td></tr></tbody></table><style>\r\n",
       ".dni-code-hint {\r\n",
       "    font-style: italic;\r\n",
       "    overflow: hidden;\r\n",
       "    white-space: nowrap;\r\n",
       "}\r\n",
       ".dni-treeview {\r\n",
       "    white-space: nowrap;\r\n",
       "}\r\n",
       ".dni-treeview td {\r\n",
       "    vertical-align: top;\r\n",
       "    text-align: start;\r\n",
       "}\r\n",
       "details.dni-treeview {\r\n",
       "    padding-left: 1em;\r\n",
       "}\r\n",
       "table td {\r\n",
       "    text-align: start;\r\n",
       "}\r\n",
       "table tr { \r\n",
       "    vertical-align: top; \r\n",
       "    margin: 0em 0px;\r\n",
       "}\r\n",
       "table tr td pre \r\n",
       "{ \r\n",
       "    vertical-align: top !important; \r\n",
       "    margin: 0em 0px !important;\r\n",
       "} \r\n",
       "table th {\r\n",
       "    text-align: start;\r\n",
       "}\r\n",
       "</style>"
      ]
     },
     "metadata": {},
     "output_type": "display_data"
    }
   ],
   "source": [
    "driver.ExecutableQuery(\"MATCH (a:Person) WHERE a.name STARTS WITH 'A' RETURN a\").ExecuteAsync().Result.Result"
   ]
  },
  {
   "cell_type": "markdown",
   "metadata": {},
   "source": [
    "## Upserting data\n",
    "\n",
    "If you re-run the `CREATE` statements from above, you'll create potentially duplicate data. To avoid this, you can use the `MERGE` clause, which acts like an \"upsert\" (update or insert) operation.\n",
    "\n",
    "`MERGE` happens in two phases:\n",
    "\n",
    "1. `MATCH` phase: The query tries to find a node that matches the pattern\n",
    "2. `CREATE` phase: If no node is found, a new node is created that matches the pattern\n",
    "\n",
    "The matching works with an exact match of the criteria in the pattern. "
   ]
  },
  {
   "cell_type": "code",
   "execution_count": 25,
   "metadata": {
    "vscode": {
     "languageId": "polyglot-notebook"
    }
   },
   "outputs": [
    {
     "data": {
      "text/html": [
       "<table><thead><tr><th><i>index</i></th><th>value</th></tr></thead><tbody><tr><td>0</td><td><details class=\"dni-treeview\"><summary><span class=\"dni-code-hint\"><code>[ [a, Neo4j.Driver.Internal.Types.Node] ]</code></span></summary><div><table><thead><tr></tr></thead><tbody><tr><td>Keys</td><td><div class=\"dni-plaintext\"><pre>[ a ]</pre></div></td></tr><tr><td>Values</td><td><details class=\"dni-treeview\"><summary><span class=\"dni-code-hint\"><code>[ [a, Neo4j.Driver.Internal.Types.Node] ]</code></span></summary><div><table><thead><tr></tr></thead><tbody><tr><td>Keys</td><td><div class=\"dni-plaintext\"><pre>[ a ]</pre></div></td></tr><tr><td>Values</td><td><details class=\"dni-treeview\"><summary><span class=\"dni-code-hint\"><code>[ [a, Neo4j.Driver.Internal.Types.Node] ]</code></span></summary><div><table><thead><tr></tr></thead><tbody><tr><td>Keys</td><td><div class=\"dni-plaintext\"><pre>[ a ]</pre></div></td></tr><tr><td>Values</td><td><details class=\"dni-treeview\"><summary><span class=\"dni-code-hint\"><code>[ [a, Neo4j.Driver.Internal.Types.Node] ]</code></span></summary><div><table><thead><tr></tr></thead><tbody><tr><td>Keys</td><td><div class=\"dni-plaintext\"><pre>[ a ]</pre></div></td></tr><tr><td>Values</td><td><details class=\"dni-treeview\"><summary><span class=\"dni-code-hint\"><code>[ [a, Neo4j.Driver.Internal.Types.Node] ]</code></span></summary><div><table><thead><tr></tr></thead><tbody><tr><td>Keys</td><td>[ a ]</td></tr><tr><td>Values</td><td>[ [a, Neo4j.Driver.Internal.Types.Node] ]</td></tr><tr><td><i>(values)</i></td><td><table><thead><tr><th><i>index</i></th><th>value</th></tr></thead><tbody><tr><td>0</td><td>[a, Neo4j.Driver.Internal.Types.Node]</td></tr></tbody></table></td></tr></tbody></table></div></details></td></tr><tr><td><i>(values)</i></td><td><table><thead><tr><th><i>index</i></th><th>value</th></tr></thead><tbody><tr><td>0</td><td><details class=\"dni-treeview\"><summary><span class=\"dni-code-hint\"><code>[a, Neo4j.Driver.Internal.Types.Node]</code></span></summary><div><table><thead><tr></tr></thead><tbody><tr><td>Key</td><td>a</td></tr><tr><td>Value</td><td>Neo4j.Driver.Internal.Types.Node</td></tr></tbody></table></div></details></td></tr></tbody></table></td></tr></tbody></table></div></details></td></tr><tr><td><i>(values)</i></td><td><table><thead><tr><th><i>index</i></th><th>value</th></tr></thead><tbody><tr><td>0</td><td><details class=\"dni-treeview\"><summary><span class=\"dni-code-hint\"><code>[a, Neo4j.Driver.Internal.Types.Node]</code></span></summary><div><table><thead><tr></tr></thead><tbody><tr><td>Key</td><td><div class=\"dni-plaintext\"><pre>a</pre></div></td></tr><tr><td>Value</td><td><details class=\"dni-treeview\"><summary><span class=\"dni-code-hint\"><code>Neo4j.Driver.Internal.Types.Node</code></span></summary><div><table><thead><tr></tr></thead><tbody><tr><td>Id</td><td>2</td></tr><tr><td>ElementId</td><td>4:9b52f2f1-e63c-44a2-9183-eef64f1743e9:2</td></tr><tr><td>Labels</td><td>[ Person ]</td></tr><tr><td>Properties</td><td>[ [name, Andreas], [height, 186] ]</td></tr></tbody></table></div></details></td></tr></tbody></table></div></details></td></tr></tbody></table></td></tr></tbody></table></div></details></td></tr><tr><td><i>(values)</i></td><td><table><thead><tr><th><i>index</i></th><th>value</th></tr></thead><tbody><tr><td>0</td><td><details class=\"dni-treeview\"><summary><span class=\"dni-code-hint\"><code>[a, Neo4j.Driver.Internal.Types.Node]</code></span></summary><div><table><thead><tr></tr></thead><tbody><tr><td>Key</td><td><div class=\"dni-plaintext\"><pre>a</pre></div></td></tr><tr><td>Value</td><td><details class=\"dni-treeview\"><summary><span class=\"dni-code-hint\"><code>Neo4j.Driver.Internal.Types.Node</code></span></summary><div><table><thead><tr></tr></thead><tbody><tr><td>Id</td><td><div class=\"dni-plaintext\"><pre>2</pre></div></td></tr><tr><td>ElementId</td><td><div class=\"dni-plaintext\"><pre>4:9b52f2f1-e63c-44a2-9183-eef64f1743e9:2</pre></div></td></tr><tr><td>Labels</td><td><div class=\"dni-plaintext\"><pre>[ Person ]</pre></div></td></tr><tr><td>Properties</td><td><table><thead><tr><th><i>key</i></th><th><i>type</i></th><th>value</th></tr></thead><tbody><tr><td><div class=\"dni-plaintext\"><pre>name</pre></div></td><td>System.String</td><td><div class=\"dni-plaintext\"><pre>Andreas</pre></div></td></tr><tr><td><div class=\"dni-plaintext\"><pre>height</pre></div></td><td>System.Int64</td><td>186</td></tr></tbody></table></td></tr></tbody></table></div></details></td></tr></tbody></table></div></details></td></tr></tbody></table></td></tr></tbody></table></div></details></td></tr><tr><td><i>(values)</i></td><td><table><thead><tr><th><i>index</i></th><th>value</th></tr></thead><tbody><tr><td>0</td><td><details class=\"dni-treeview\"><summary><span class=\"dni-code-hint\"><code>[a, Neo4j.Driver.Internal.Types.Node]</code></span></summary><div><table><thead><tr></tr></thead><tbody><tr><td>Key</td><td><div class=\"dni-plaintext\"><pre>a</pre></div></td></tr><tr><td>Value</td><td><details class=\"dni-treeview\"><summary><span class=\"dni-code-hint\"><code>Neo4j.Driver.Internal.Types.Node</code></span></summary><div><table><thead><tr></tr></thead><tbody><tr><td>Id</td><td><div class=\"dni-plaintext\"><pre>2</pre></div></td></tr><tr><td>ElementId</td><td><div class=\"dni-plaintext\"><pre>4:9b52f2f1-e63c-44a2-9183-eef64f1743e9:2</pre></div></td></tr><tr><td>Labels</td><td><div class=\"dni-plaintext\"><pre>[ Person ]</pre></div></td></tr><tr><td>Properties</td><td><table><thead><tr><th><i>key</i></th><th><i>type</i></th><th>value</th></tr></thead><tbody><tr><td><div class=\"dni-plaintext\"><pre>name</pre></div></td><td><span><a href=\"https://docs.microsoft.com/dotnet/api/system.string?view=net-7.0\">System.String</a></span></td><td><div class=\"dni-plaintext\"><pre>Andreas</pre></div></td></tr><tr><td><div class=\"dni-plaintext\"><pre>height</pre></div></td><td><span><a href=\"https://docs.microsoft.com/dotnet/api/system.int64?view=net-7.0\">System.Int64</a></span></td><td><div class=\"dni-plaintext\"><pre>186</pre></div></td></tr></tbody></table></td></tr></tbody></table></div></details></td></tr></tbody></table></div></details></td></tr></tbody></table></td></tr></tbody></table></div></details></td></tr><tr><td>1</td><td><details class=\"dni-treeview\"><summary><span class=\"dni-code-hint\"><code>[ [a, Neo4j.Driver.Internal.Types.Node] ]</code></span></summary><div><table><thead><tr></tr></thead><tbody><tr><td>Keys</td><td><div class=\"dni-plaintext\"><pre>[ a ]</pre></div></td></tr><tr><td>Values</td><td><details class=\"dni-treeview\"><summary><span class=\"dni-code-hint\"><code>[ [a, Neo4j.Driver.Internal.Types.Node] ]</code></span></summary><div><table><thead><tr></tr></thead><tbody><tr><td>Keys</td><td><div class=\"dni-plaintext\"><pre>[ a ]</pre></div></td></tr><tr><td>Values</td><td><details class=\"dni-treeview\"><summary><span class=\"dni-code-hint\"><code>[ [a, Neo4j.Driver.Internal.Types.Node] ]</code></span></summary><div><table><thead><tr></tr></thead><tbody><tr><td>Keys</td><td><div class=\"dni-plaintext\"><pre>[ a ]</pre></div></td></tr><tr><td>Values</td><td><details class=\"dni-treeview\"><summary><span class=\"dni-code-hint\"><code>[ [a, Neo4j.Driver.Internal.Types.Node] ]</code></span></summary><div><table><thead><tr></tr></thead><tbody><tr><td>Keys</td><td><div class=\"dni-plaintext\"><pre>[ a ]</pre></div></td></tr><tr><td>Values</td><td><details class=\"dni-treeview\"><summary><span class=\"dni-code-hint\"><code>[ [a, Neo4j.Driver.Internal.Types.Node] ]</code></span></summary><div><table><thead><tr></tr></thead><tbody><tr><td>Keys</td><td>[ a ]</td></tr><tr><td>Values</td><td>[ [a, Neo4j.Driver.Internal.Types.Node] ]</td></tr><tr><td><i>(values)</i></td><td><table><thead><tr><th><i>index</i></th><th>value</th></tr></thead><tbody><tr><td>0</td><td>[a, Neo4j.Driver.Internal.Types.Node]</td></tr></tbody></table></td></tr></tbody></table></div></details></td></tr><tr><td><i>(values)</i></td><td><table><thead><tr><th><i>index</i></th><th>value</th></tr></thead><tbody><tr><td>0</td><td><details class=\"dni-treeview\"><summary><span class=\"dni-code-hint\"><code>[a, Neo4j.Driver.Internal.Types.Node]</code></span></summary><div><table><thead><tr></tr></thead><tbody><tr><td>Key</td><td>a</td></tr><tr><td>Value</td><td>Neo4j.Driver.Internal.Types.Node</td></tr></tbody></table></div></details></td></tr></tbody></table></td></tr></tbody></table></div></details></td></tr><tr><td><i>(values)</i></td><td><table><thead><tr><th><i>index</i></th><th>value</th></tr></thead><tbody><tr><td>0</td><td><details class=\"dni-treeview\"><summary><span class=\"dni-code-hint\"><code>[a, Neo4j.Driver.Internal.Types.Node]</code></span></summary><div><table><thead><tr></tr></thead><tbody><tr><td>Key</td><td><div class=\"dni-plaintext\"><pre>a</pre></div></td></tr><tr><td>Value</td><td><details class=\"dni-treeview\"><summary><span class=\"dni-code-hint\"><code>Neo4j.Driver.Internal.Types.Node</code></span></summary><div><table><thead><tr></tr></thead><tbody><tr><td>Id</td><td>3</td></tr><tr><td>ElementId</td><td>4:9b52f2f1-e63c-44a2-9183-eef64f1743e9:3</td></tr><tr><td>Labels</td><td>[ Person ]</td></tr><tr><td>Properties</td><td>[ [name, Andreas], [height, 186] ]</td></tr></tbody></table></div></details></td></tr></tbody></table></div></details></td></tr></tbody></table></td></tr></tbody></table></div></details></td></tr><tr><td><i>(values)</i></td><td><table><thead><tr><th><i>index</i></th><th>value</th></tr></thead><tbody><tr><td>0</td><td><details class=\"dni-treeview\"><summary><span class=\"dni-code-hint\"><code>[a, Neo4j.Driver.Internal.Types.Node]</code></span></summary><div><table><thead><tr></tr></thead><tbody><tr><td>Key</td><td><div class=\"dni-plaintext\"><pre>a</pre></div></td></tr><tr><td>Value</td><td><details class=\"dni-treeview\"><summary><span class=\"dni-code-hint\"><code>Neo4j.Driver.Internal.Types.Node</code></span></summary><div><table><thead><tr></tr></thead><tbody><tr><td>Id</td><td><div class=\"dni-plaintext\"><pre>3</pre></div></td></tr><tr><td>ElementId</td><td><div class=\"dni-plaintext\"><pre>4:9b52f2f1-e63c-44a2-9183-eef64f1743e9:3</pre></div></td></tr><tr><td>Labels</td><td><div class=\"dni-plaintext\"><pre>[ Person ]</pre></div></td></tr><tr><td>Properties</td><td><table><thead><tr><th><i>key</i></th><th><i>type</i></th><th>value</th></tr></thead><tbody><tr><td><div class=\"dni-plaintext\"><pre>name</pre></div></td><td>System.String</td><td><div class=\"dni-plaintext\"><pre>Andreas</pre></div></td></tr><tr><td><div class=\"dni-plaintext\"><pre>height</pre></div></td><td>System.Int64</td><td>186</td></tr></tbody></table></td></tr></tbody></table></div></details></td></tr></tbody></table></div></details></td></tr></tbody></table></td></tr></tbody></table></div></details></td></tr><tr><td><i>(values)</i></td><td><table><thead><tr><th><i>index</i></th><th>value</th></tr></thead><tbody><tr><td>0</td><td><details class=\"dni-treeview\"><summary><span class=\"dni-code-hint\"><code>[a, Neo4j.Driver.Internal.Types.Node]</code></span></summary><div><table><thead><tr></tr></thead><tbody><tr><td>Key</td><td><div class=\"dni-plaintext\"><pre>a</pre></div></td></tr><tr><td>Value</td><td><details class=\"dni-treeview\"><summary><span class=\"dni-code-hint\"><code>Neo4j.Driver.Internal.Types.Node</code></span></summary><div><table><thead><tr></tr></thead><tbody><tr><td>Id</td><td><div class=\"dni-plaintext\"><pre>3</pre></div></td></tr><tr><td>ElementId</td><td><div class=\"dni-plaintext\"><pre>4:9b52f2f1-e63c-44a2-9183-eef64f1743e9:3</pre></div></td></tr><tr><td>Labels</td><td><div class=\"dni-plaintext\"><pre>[ Person ]</pre></div></td></tr><tr><td>Properties</td><td><table><thead><tr><th><i>key</i></th><th><i>type</i></th><th>value</th></tr></thead><tbody><tr><td><div class=\"dni-plaintext\"><pre>name</pre></div></td><td><span><a href=\"https://docs.microsoft.com/dotnet/api/system.string?view=net-7.0\">System.String</a></span></td><td><div class=\"dni-plaintext\"><pre>Andreas</pre></div></td></tr><tr><td><div class=\"dni-plaintext\"><pre>height</pre></div></td><td><span><a href=\"https://docs.microsoft.com/dotnet/api/system.int64?view=net-7.0\">System.Int64</a></span></td><td><div class=\"dni-plaintext\"><pre>186</pre></div></td></tr></tbody></table></td></tr></tbody></table></div></details></td></tr></tbody></table></div></details></td></tr></tbody></table></td></tr></tbody></table></div></details></td></tr></tbody></table><style>\r\n",
       ".dni-code-hint {\r\n",
       "    font-style: italic;\r\n",
       "    overflow: hidden;\r\n",
       "    white-space: nowrap;\r\n",
       "}\r\n",
       ".dni-treeview {\r\n",
       "    white-space: nowrap;\r\n",
       "}\r\n",
       ".dni-treeview td {\r\n",
       "    vertical-align: top;\r\n",
       "    text-align: start;\r\n",
       "}\r\n",
       "details.dni-treeview {\r\n",
       "    padding-left: 1em;\r\n",
       "}\r\n",
       "table td {\r\n",
       "    text-align: start;\r\n",
       "}\r\n",
       "table tr { \r\n",
       "    vertical-align: top; \r\n",
       "    margin: 0em 0px;\r\n",
       "}\r\n",
       "table tr td pre \r\n",
       "{ \r\n",
       "    vertical-align: top !important; \r\n",
       "    margin: 0em 0px !important;\r\n",
       "} \r\n",
       "table th {\r\n",
       "    text-align: start;\r\n",
       "}\r\n",
       "</style>"
      ]
     },
     "metadata": {},
     "output_type": "display_data"
    }
   ],
   "source": [
    "driver.ExecutableQuery(\"MERGE (a:Person {name:'Andreas'}) RETURN a\").ExecuteAsync().Result.Result"
   ]
  },
  {
   "cell_type": "markdown",
   "metadata": {},
   "source": [
    "### Set values on `MERGE`\n",
    "\n",
    "You can use the `SET` clause to set properties on the node found or creating by `MERGE`.  "
   ]
  },
  {
   "cell_type": "code",
   "execution_count": 27,
   "metadata": {
    "vscode": {
     "languageId": "polyglot-notebook"
    }
   },
   "outputs": [
    {
     "data": {
      "text/html": [
       "<table><thead><tr><th><i>index</i></th><th>value</th></tr></thead><tbody><tr><td>0</td><td><details class=\"dni-treeview\"><summary><span class=\"dni-code-hint\"><code>[ [a, Neo4j.Driver.Internal.Types.Node] ]</code></span></summary><div><table><thead><tr></tr></thead><tbody><tr><td>Keys</td><td><div class=\"dni-plaintext\"><pre>[ a ]</pre></div></td></tr><tr><td>Values</td><td><details class=\"dni-treeview\"><summary><span class=\"dni-code-hint\"><code>[ [a, Neo4j.Driver.Internal.Types.Node] ]</code></span></summary><div><table><thead><tr></tr></thead><tbody><tr><td>Keys</td><td><div class=\"dni-plaintext\"><pre>[ a ]</pre></div></td></tr><tr><td>Values</td><td><details class=\"dni-treeview\"><summary><span class=\"dni-code-hint\"><code>[ [a, Neo4j.Driver.Internal.Types.Node] ]</code></span></summary><div><table><thead><tr></tr></thead><tbody><tr><td>Keys</td><td><div class=\"dni-plaintext\"><pre>[ a ]</pre></div></td></tr><tr><td>Values</td><td><details class=\"dni-treeview\"><summary><span class=\"dni-code-hint\"><code>[ [a, Neo4j.Driver.Internal.Types.Node] ]</code></span></summary><div><table><thead><tr></tr></thead><tbody><tr><td>Keys</td><td><div class=\"dni-plaintext\"><pre>[ a ]</pre></div></td></tr><tr><td>Values</td><td><details class=\"dni-treeview\"><summary><span class=\"dni-code-hint\"><code>[ [a, Neo4j.Driver.Internal.Types.Node] ]</code></span></summary><div><table><thead><tr></tr></thead><tbody><tr><td>Keys</td><td>[ a ]</td></tr><tr><td>Values</td><td>[ [a, Neo4j.Driver.Internal.Types.Node] ]</td></tr><tr><td><i>(values)</i></td><td><table><thead><tr><th><i>index</i></th><th>value</th></tr></thead><tbody><tr><td>0</td><td>[a, Neo4j.Driver.Internal.Types.Node]</td></tr></tbody></table></td></tr></tbody></table></div></details></td></tr><tr><td><i>(values)</i></td><td><table><thead><tr><th><i>index</i></th><th>value</th></tr></thead><tbody><tr><td>0</td><td><details class=\"dni-treeview\"><summary><span class=\"dni-code-hint\"><code>[a, Neo4j.Driver.Internal.Types.Node]</code></span></summary><div><table><thead><tr></tr></thead><tbody><tr><td>Key</td><td>a</td></tr><tr><td>Value</td><td>Neo4j.Driver.Internal.Types.Node</td></tr></tbody></table></div></details></td></tr></tbody></table></td></tr></tbody></table></div></details></td></tr><tr><td><i>(values)</i></td><td><table><thead><tr><th><i>index</i></th><th>value</th></tr></thead><tbody><tr><td>0</td><td><details class=\"dni-treeview\"><summary><span class=\"dni-code-hint\"><code>[a, Neo4j.Driver.Internal.Types.Node]</code></span></summary><div><table><thead><tr></tr></thead><tbody><tr><td>Key</td><td><div class=\"dni-plaintext\"><pre>a</pre></div></td></tr><tr><td>Value</td><td><details class=\"dni-treeview\"><summary><span class=\"dni-code-hint\"><code>Neo4j.Driver.Internal.Types.Node</code></span></summary><div><table><thead><tr></tr></thead><tbody><tr><td>Id</td><td>2</td></tr><tr><td>ElementId</td><td>4:9b52f2f1-e63c-44a2-9183-eef64f1743e9:2</td></tr><tr><td>Labels</td><td>[ Person ]</td></tr><tr><td>Properties</td><td>[ [name, Andreas], [height, 190] ]</td></tr></tbody></table></div></details></td></tr></tbody></table></div></details></td></tr></tbody></table></td></tr></tbody></table></div></details></td></tr><tr><td><i>(values)</i></td><td><table><thead><tr><th><i>index</i></th><th>value</th></tr></thead><tbody><tr><td>0</td><td><details class=\"dni-treeview\"><summary><span class=\"dni-code-hint\"><code>[a, Neo4j.Driver.Internal.Types.Node]</code></span></summary><div><table><thead><tr></tr></thead><tbody><tr><td>Key</td><td><div class=\"dni-plaintext\"><pre>a</pre></div></td></tr><tr><td>Value</td><td><details class=\"dni-treeview\"><summary><span class=\"dni-code-hint\"><code>Neo4j.Driver.Internal.Types.Node</code></span></summary><div><table><thead><tr></tr></thead><tbody><tr><td>Id</td><td><div class=\"dni-plaintext\"><pre>2</pre></div></td></tr><tr><td>ElementId</td><td><div class=\"dni-plaintext\"><pre>4:9b52f2f1-e63c-44a2-9183-eef64f1743e9:2</pre></div></td></tr><tr><td>Labels</td><td><div class=\"dni-plaintext\"><pre>[ Person ]</pre></div></td></tr><tr><td>Properties</td><td><table><thead><tr><th><i>key</i></th><th><i>type</i></th><th>value</th></tr></thead><tbody><tr><td><div class=\"dni-plaintext\"><pre>name</pre></div></td><td>System.String</td><td><div class=\"dni-plaintext\"><pre>Andreas</pre></div></td></tr><tr><td><div class=\"dni-plaintext\"><pre>height</pre></div></td><td>System.Int64</td><td>190</td></tr></tbody></table></td></tr></tbody></table></div></details></td></tr></tbody></table></div></details></td></tr></tbody></table></td></tr></tbody></table></div></details></td></tr><tr><td><i>(values)</i></td><td><table><thead><tr><th><i>index</i></th><th>value</th></tr></thead><tbody><tr><td>0</td><td><details class=\"dni-treeview\"><summary><span class=\"dni-code-hint\"><code>[a, Neo4j.Driver.Internal.Types.Node]</code></span></summary><div><table><thead><tr></tr></thead><tbody><tr><td>Key</td><td><div class=\"dni-plaintext\"><pre>a</pre></div></td></tr><tr><td>Value</td><td><details class=\"dni-treeview\"><summary><span class=\"dni-code-hint\"><code>Neo4j.Driver.Internal.Types.Node</code></span></summary><div><table><thead><tr></tr></thead><tbody><tr><td>Id</td><td><div class=\"dni-plaintext\"><pre>2</pre></div></td></tr><tr><td>ElementId</td><td><div class=\"dni-plaintext\"><pre>4:9b52f2f1-e63c-44a2-9183-eef64f1743e9:2</pre></div></td></tr><tr><td>Labels</td><td><div class=\"dni-plaintext\"><pre>[ Person ]</pre></div></td></tr><tr><td>Properties</td><td><table><thead><tr><th><i>key</i></th><th><i>type</i></th><th>value</th></tr></thead><tbody><tr><td><div class=\"dni-plaintext\"><pre>name</pre></div></td><td><span><a href=\"https://docs.microsoft.com/dotnet/api/system.string?view=net-7.0\">System.String</a></span></td><td><div class=\"dni-plaintext\"><pre>Andreas</pre></div></td></tr><tr><td><div class=\"dni-plaintext\"><pre>height</pre></div></td><td><span><a href=\"https://docs.microsoft.com/dotnet/api/system.int64?view=net-7.0\">System.Int64</a></span></td><td><div class=\"dni-plaintext\"><pre>190</pre></div></td></tr></tbody></table></td></tr></tbody></table></div></details></td></tr></tbody></table></div></details></td></tr></tbody></table></td></tr></tbody></table></div></details></td></tr><tr><td>1</td><td><details class=\"dni-treeview\"><summary><span class=\"dni-code-hint\"><code>[ [a, Neo4j.Driver.Internal.Types.Node] ]</code></span></summary><div><table><thead><tr></tr></thead><tbody><tr><td>Keys</td><td><div class=\"dni-plaintext\"><pre>[ a ]</pre></div></td></tr><tr><td>Values</td><td><details class=\"dni-treeview\"><summary><span class=\"dni-code-hint\"><code>[ [a, Neo4j.Driver.Internal.Types.Node] ]</code></span></summary><div><table><thead><tr></tr></thead><tbody><tr><td>Keys</td><td><div class=\"dni-plaintext\"><pre>[ a ]</pre></div></td></tr><tr><td>Values</td><td><details class=\"dni-treeview\"><summary><span class=\"dni-code-hint\"><code>[ [a, Neo4j.Driver.Internal.Types.Node] ]</code></span></summary><div><table><thead><tr></tr></thead><tbody><tr><td>Keys</td><td><div class=\"dni-plaintext\"><pre>[ a ]</pre></div></td></tr><tr><td>Values</td><td><details class=\"dni-treeview\"><summary><span class=\"dni-code-hint\"><code>[ [a, Neo4j.Driver.Internal.Types.Node] ]</code></span></summary><div><table><thead><tr></tr></thead><tbody><tr><td>Keys</td><td><div class=\"dni-plaintext\"><pre>[ a ]</pre></div></td></tr><tr><td>Values</td><td><details class=\"dni-treeview\"><summary><span class=\"dni-code-hint\"><code>[ [a, Neo4j.Driver.Internal.Types.Node] ]</code></span></summary><div><table><thead><tr></tr></thead><tbody><tr><td>Keys</td><td>[ a ]</td></tr><tr><td>Values</td><td>[ [a, Neo4j.Driver.Internal.Types.Node] ]</td></tr><tr><td><i>(values)</i></td><td><table><thead><tr><th><i>index</i></th><th>value</th></tr></thead><tbody><tr><td>0</td><td>[a, Neo4j.Driver.Internal.Types.Node]</td></tr></tbody></table></td></tr></tbody></table></div></details></td></tr><tr><td><i>(values)</i></td><td><table><thead><tr><th><i>index</i></th><th>value</th></tr></thead><tbody><tr><td>0</td><td><details class=\"dni-treeview\"><summary><span class=\"dni-code-hint\"><code>[a, Neo4j.Driver.Internal.Types.Node]</code></span></summary><div><table><thead><tr></tr></thead><tbody><tr><td>Key</td><td>a</td></tr><tr><td>Value</td><td>Neo4j.Driver.Internal.Types.Node</td></tr></tbody></table></div></details></td></tr></tbody></table></td></tr></tbody></table></div></details></td></tr><tr><td><i>(values)</i></td><td><table><thead><tr><th><i>index</i></th><th>value</th></tr></thead><tbody><tr><td>0</td><td><details class=\"dni-treeview\"><summary><span class=\"dni-code-hint\"><code>[a, Neo4j.Driver.Internal.Types.Node]</code></span></summary><div><table><thead><tr></tr></thead><tbody><tr><td>Key</td><td><div class=\"dni-plaintext\"><pre>a</pre></div></td></tr><tr><td>Value</td><td><details class=\"dni-treeview\"><summary><span class=\"dni-code-hint\"><code>Neo4j.Driver.Internal.Types.Node</code></span></summary><div><table><thead><tr></tr></thead><tbody><tr><td>Id</td><td>3</td></tr><tr><td>ElementId</td><td>4:9b52f2f1-e63c-44a2-9183-eef64f1743e9:3</td></tr><tr><td>Labels</td><td>[ Person ]</td></tr><tr><td>Properties</td><td>[ [name, Andreas], [height, 190] ]</td></tr></tbody></table></div></details></td></tr></tbody></table></div></details></td></tr></tbody></table></td></tr></tbody></table></div></details></td></tr><tr><td><i>(values)</i></td><td><table><thead><tr><th><i>index</i></th><th>value</th></tr></thead><tbody><tr><td>0</td><td><details class=\"dni-treeview\"><summary><span class=\"dni-code-hint\"><code>[a, Neo4j.Driver.Internal.Types.Node]</code></span></summary><div><table><thead><tr></tr></thead><tbody><tr><td>Key</td><td><div class=\"dni-plaintext\"><pre>a</pre></div></td></tr><tr><td>Value</td><td><details class=\"dni-treeview\"><summary><span class=\"dni-code-hint\"><code>Neo4j.Driver.Internal.Types.Node</code></span></summary><div><table><thead><tr></tr></thead><tbody><tr><td>Id</td><td><div class=\"dni-plaintext\"><pre>3</pre></div></td></tr><tr><td>ElementId</td><td><div class=\"dni-plaintext\"><pre>4:9b52f2f1-e63c-44a2-9183-eef64f1743e9:3</pre></div></td></tr><tr><td>Labels</td><td><div class=\"dni-plaintext\"><pre>[ Person ]</pre></div></td></tr><tr><td>Properties</td><td><table><thead><tr><th><i>key</i></th><th><i>type</i></th><th>value</th></tr></thead><tbody><tr><td><div class=\"dni-plaintext\"><pre>name</pre></div></td><td>System.String</td><td><div class=\"dni-plaintext\"><pre>Andreas</pre></div></td></tr><tr><td><div class=\"dni-plaintext\"><pre>height</pre></div></td><td>System.Int64</td><td>190</td></tr></tbody></table></td></tr></tbody></table></div></details></td></tr></tbody></table></div></details></td></tr></tbody></table></td></tr></tbody></table></div></details></td></tr><tr><td><i>(values)</i></td><td><table><thead><tr><th><i>index</i></th><th>value</th></tr></thead><tbody><tr><td>0</td><td><details class=\"dni-treeview\"><summary><span class=\"dni-code-hint\"><code>[a, Neo4j.Driver.Internal.Types.Node]</code></span></summary><div><table><thead><tr></tr></thead><tbody><tr><td>Key</td><td><div class=\"dni-plaintext\"><pre>a</pre></div></td></tr><tr><td>Value</td><td><details class=\"dni-treeview\"><summary><span class=\"dni-code-hint\"><code>Neo4j.Driver.Internal.Types.Node</code></span></summary><div><table><thead><tr></tr></thead><tbody><tr><td>Id</td><td><div class=\"dni-plaintext\"><pre>3</pre></div></td></tr><tr><td>ElementId</td><td><div class=\"dni-plaintext\"><pre>4:9b52f2f1-e63c-44a2-9183-eef64f1743e9:3</pre></div></td></tr><tr><td>Labels</td><td><div class=\"dni-plaintext\"><pre>[ Person ]</pre></div></td></tr><tr><td>Properties</td><td><table><thead><tr><th><i>key</i></th><th><i>type</i></th><th>value</th></tr></thead><tbody><tr><td><div class=\"dni-plaintext\"><pre>name</pre></div></td><td><span><a href=\"https://docs.microsoft.com/dotnet/api/system.string?view=net-7.0\">System.String</a></span></td><td><div class=\"dni-plaintext\"><pre>Andreas</pre></div></td></tr><tr><td><div class=\"dni-plaintext\"><pre>height</pre></div></td><td><span><a href=\"https://docs.microsoft.com/dotnet/api/system.int64?view=net-7.0\">System.Int64</a></span></td><td><div class=\"dni-plaintext\"><pre>190</pre></div></td></tr></tbody></table></td></tr></tbody></table></div></details></td></tr></tbody></table></div></details></td></tr></tbody></table></td></tr></tbody></table></div></details></td></tr></tbody></table><style>\r\n",
       ".dni-code-hint {\r\n",
       "    font-style: italic;\r\n",
       "    overflow: hidden;\r\n",
       "    white-space: nowrap;\r\n",
       "}\r\n",
       ".dni-treeview {\r\n",
       "    white-space: nowrap;\r\n",
       "}\r\n",
       ".dni-treeview td {\r\n",
       "    vertical-align: top;\r\n",
       "    text-align: start;\r\n",
       "}\r\n",
       "details.dni-treeview {\r\n",
       "    padding-left: 1em;\r\n",
       "}\r\n",
       "table td {\r\n",
       "    text-align: start;\r\n",
       "}\r\n",
       "table tr { \r\n",
       "    vertical-align: top; \r\n",
       "    margin: 0em 0px;\r\n",
       "}\r\n",
       "table tr td pre \r\n",
       "{ \r\n",
       "    vertical-align: top !important; \r\n",
       "    margin: 0em 0px !important;\r\n",
       "} \r\n",
       "table th {\r\n",
       "    text-align: start;\r\n",
       "}\r\n",
       "</style>"
      ]
     },
     "metadata": {},
     "output_type": "display_data"
    }
   ],
   "source": [
    "driver.ExecutableQuery(\"\"\"\n",
    "  MERGE (a:Person {name:'Andreas'}) \n",
    "  SET a.height = 190\n",
    "  RETURN a\n",
    "  \"\"\"\n",
    ").ExecuteAsync().Result.Result"
   ]
  },
  {
   "cell_type": "markdown",
   "metadata": {},
   "source": [
    "### Set values on `MERGE` with `ON CREATE`\n",
    "\n",
    "`MERGE` has a special sub-clause that only exectutes when the `CREATE` phase is triggered. This is the `ON CREATE` clause.\n",
    "\n",
    "To conditionally set properties only when a new node is created, use the `ON CREATE` clause.\n",
    "\n",
    "This example uses the built-in `datetime()` function to set the `createdAt` property only when the node is created."
   ]
  },
  {
   "cell_type": "code",
   "execution_count": 29,
   "metadata": {
    "vscode": {
     "languageId": "polyglot-notebook"
    }
   },
   "outputs": [
    {
     "data": {
      "text/html": [
       "<table><thead><tr><th><i>index</i></th><th>value</th></tr></thead><tbody><tr><td>0</td><td><details class=\"dni-treeview\"><summary><span class=\"dni-code-hint\"><code>[ [a, Neo4j.Driver.Internal.Types.Node] ]</code></span></summary><div><table><thead><tr></tr></thead><tbody><tr><td>Keys</td><td><div class=\"dni-plaintext\"><pre>[ a ]</pre></div></td></tr><tr><td>Values</td><td><details class=\"dni-treeview\"><summary><span class=\"dni-code-hint\"><code>[ [a, Neo4j.Driver.Internal.Types.Node] ]</code></span></summary><div><table><thead><tr></tr></thead><tbody><tr><td>Keys</td><td><div class=\"dni-plaintext\"><pre>[ a ]</pre></div></td></tr><tr><td>Values</td><td><details class=\"dni-treeview\"><summary><span class=\"dni-code-hint\"><code>[ [a, Neo4j.Driver.Internal.Types.Node] ]</code></span></summary><div><table><thead><tr></tr></thead><tbody><tr><td>Keys</td><td><div class=\"dni-plaintext\"><pre>[ a ]</pre></div></td></tr><tr><td>Values</td><td><details class=\"dni-treeview\"><summary><span class=\"dni-code-hint\"><code>[ [a, Neo4j.Driver.Internal.Types.Node] ]</code></span></summary><div><table><thead><tr></tr></thead><tbody><tr><td>Keys</td><td><div class=\"dni-plaintext\"><pre>[ a ]</pre></div></td></tr><tr><td>Values</td><td><details class=\"dni-treeview\"><summary><span class=\"dni-code-hint\"><code>[ [a, Neo4j.Driver.Internal.Types.Node] ]</code></span></summary><div><table><thead><tr></tr></thead><tbody><tr><td>Keys</td><td>[ a ]</td></tr><tr><td>Values</td><td>[ [a, Neo4j.Driver.Internal.Types.Node] ]</td></tr><tr><td><i>(values)</i></td><td><table><thead><tr><th><i>index</i></th><th>value</th></tr></thead><tbody><tr><td>0</td><td>[a, Neo4j.Driver.Internal.Types.Node]</td></tr></tbody></table></td></tr></tbody></table></div></details></td></tr><tr><td><i>(values)</i></td><td><table><thead><tr><th><i>index</i></th><th>value</th></tr></thead><tbody><tr><td>0</td><td><details class=\"dni-treeview\"><summary><span class=\"dni-code-hint\"><code>[a, Neo4j.Driver.Internal.Types.Node]</code></span></summary><div><table><thead><tr></tr></thead><tbody><tr><td>Key</td><td>a</td></tr><tr><td>Value</td><td>Neo4j.Driver.Internal.Types.Node</td></tr></tbody></table></div></details></td></tr></tbody></table></td></tr></tbody></table></div></details></td></tr><tr><td><i>(values)</i></td><td><table><thead><tr><th><i>index</i></th><th>value</th></tr></thead><tbody><tr><td>0</td><td><details class=\"dni-treeview\"><summary><span class=\"dni-code-hint\"><code>[a, Neo4j.Driver.Internal.Types.Node]</code></span></summary><div><table><thead><tr></tr></thead><tbody><tr><td>Key</td><td><div class=\"dni-plaintext\"><pre>a</pre></div></td></tr><tr><td>Value</td><td><details class=\"dni-treeview\"><summary><span class=\"dni-code-hint\"><code>Neo4j.Driver.Internal.Types.Node</code></span></summary><div><table><thead><tr></tr></thead><tbody><tr><td>Id</td><td>6</td></tr><tr><td>ElementId</td><td>4:9b52f2f1-e63c-44a2-9183-eef64f1743e9:6</td></tr><tr><td>Labels</td><td>[ Person ]</td></tr><tr><td>Properties</td><td>[ [createdAt, 2024-04-29T13:10:14.922000000Z], [name, Nigel] ]</td></tr></tbody></table></div></details></td></tr></tbody></table></div></details></td></tr></tbody></table></td></tr></tbody></table></div></details></td></tr><tr><td><i>(values)</i></td><td><table><thead><tr><th><i>index</i></th><th>value</th></tr></thead><tbody><tr><td>0</td><td><details class=\"dni-treeview\"><summary><span class=\"dni-code-hint\"><code>[a, Neo4j.Driver.Internal.Types.Node]</code></span></summary><div><table><thead><tr></tr></thead><tbody><tr><td>Key</td><td><div class=\"dni-plaintext\"><pre>a</pre></div></td></tr><tr><td>Value</td><td><details class=\"dni-treeview\"><summary><span class=\"dni-code-hint\"><code>Neo4j.Driver.Internal.Types.Node</code></span></summary><div><table><thead><tr></tr></thead><tbody><tr><td>Id</td><td><div class=\"dni-plaintext\"><pre>6</pre></div></td></tr><tr><td>ElementId</td><td><div class=\"dni-plaintext\"><pre>4:9b52f2f1-e63c-44a2-9183-eef64f1743e9:6</pre></div></td></tr><tr><td>Labels</td><td><div class=\"dni-plaintext\"><pre>[ Person ]</pre></div></td></tr><tr><td>Properties</td><td><table><thead><tr><th><i>key</i></th><th><i>type</i></th><th>value</th></tr></thead><tbody><tr><td><div class=\"dni-plaintext\"><pre>createdAt</pre></div></td><td>Neo4j.Driver.ZonedDateTime</td><td>2024-04-29T13:10:14.922000000Z</td></tr><tr><td><div class=\"dni-plaintext\"><pre>name</pre></div></td><td>System.String</td><td><div class=\"dni-plaintext\"><pre>Nigel</pre></div></td></tr></tbody></table></td></tr></tbody></table></div></details></td></tr></tbody></table></div></details></td></tr></tbody></table></td></tr></tbody></table></div></details></td></tr><tr><td><i>(values)</i></td><td><table><thead><tr><th><i>index</i></th><th>value</th></tr></thead><tbody><tr><td>0</td><td><details class=\"dni-treeview\"><summary><span class=\"dni-code-hint\"><code>[a, Neo4j.Driver.Internal.Types.Node]</code></span></summary><div><table><thead><tr></tr></thead><tbody><tr><td>Key</td><td><div class=\"dni-plaintext\"><pre>a</pre></div></td></tr><tr><td>Value</td><td><details class=\"dni-treeview\"><summary><span class=\"dni-code-hint\"><code>Neo4j.Driver.Internal.Types.Node</code></span></summary><div><table><thead><tr></tr></thead><tbody><tr><td>Id</td><td><div class=\"dni-plaintext\"><pre>6</pre></div></td></tr><tr><td>ElementId</td><td><div class=\"dni-plaintext\"><pre>4:9b52f2f1-e63c-44a2-9183-eef64f1743e9:6</pre></div></td></tr><tr><td>Labels</td><td><div class=\"dni-plaintext\"><pre>[ Person ]</pre></div></td></tr><tr><td>Properties</td><td><table><thead><tr><th><i>key</i></th><th><i>type</i></th><th>value</th></tr></thead><tbody><tr><td><div class=\"dni-plaintext\"><pre>createdAt</pre></div></td><td>Neo4j.Driver.ZonedDateTime</td><td><details class=\"dni-treeview\"><summary><span class=\"dni-code-hint\"><code>2024-04-29T13:10:14.922000000Z</code></span></summary><div><table><thead><tr></tr></thead><tbody><tr><td>UnknownZoneInfo</td><td>False</td></tr><tr><td>Reason</td><td>None</td></tr><tr><td>Ambiguous</td><td>False</td></tr><tr><td>UtcSeconds</td><td>1714396214</td></tr><tr><td>EpochTicks</td><td>17143962149220000</td></tr><tr><td>Zone</td><td>Z</td></tr><tr><td>LocalDateTime</td><td>4/29/2024 1:10:14 PM</td></tr><tr><td>UtcDateTime</td><td>4/29/2024 1:10:14 PM</td></tr><tr><td>OffsetSeconds</td><td>0</td></tr><tr><td>Year</td><td>2024</td></tr><tr><td>Month</td><td>4</td></tr><tr><td>Day</td><td>29</td></tr><tr><td>Hour</td><td>13</td></tr><tr><td>Minute</td><td>10</td></tr><tr><td>Second</td><td>14</td></tr><tr><td>Nanosecond</td><td>922000000</td></tr></tbody></table></div></details></td></tr><tr><td><div class=\"dni-plaintext\"><pre>name</pre></div></td><td><span><a href=\"https://docs.microsoft.com/dotnet/api/system.string?view=net-7.0\">System.String</a></span></td><td><div class=\"dni-plaintext\"><pre>Nigel</pre></div></td></tr></tbody></table></td></tr></tbody></table></div></details></td></tr></tbody></table></div></details></td></tr></tbody></table></td></tr></tbody></table></div></details></td></tr></tbody></table><style>\r\n",
       ".dni-code-hint {\r\n",
       "    font-style: italic;\r\n",
       "    overflow: hidden;\r\n",
       "    white-space: nowrap;\r\n",
       "}\r\n",
       ".dni-treeview {\r\n",
       "    white-space: nowrap;\r\n",
       "}\r\n",
       ".dni-treeview td {\r\n",
       "    vertical-align: top;\r\n",
       "    text-align: start;\r\n",
       "}\r\n",
       "details.dni-treeview {\r\n",
       "    padding-left: 1em;\r\n",
       "}\r\n",
       "table td {\r\n",
       "    text-align: start;\r\n",
       "}\r\n",
       "table tr { \r\n",
       "    vertical-align: top; \r\n",
       "    margin: 0em 0px;\r\n",
       "}\r\n",
       "table tr td pre \r\n",
       "{ \r\n",
       "    vertical-align: top !important; \r\n",
       "    margin: 0em 0px !important;\r\n",
       "} \r\n",
       "table th {\r\n",
       "    text-align: start;\r\n",
       "}\r\n",
       "</style>"
      ]
     },
     "metadata": {},
     "output_type": "display_data"
    }
   ],
   "source": [
    "driver.ExecutableQuery(\"\"\"\n",
    "  MERGE (a:Person {name:'Nigel'}) \n",
    "  ON CREATE SET a.createdAt = datetime()\n",
    "  RETURN a\n",
    "  \"\"\"\n",
    ").ExecuteAsync().Result.Result"
   ]
  },
  {
   "cell_type": "markdown",
   "metadata": {},
   "source": [
    "## Set values on `MERGE` with `ON MATCH`\n",
    "\n",
    "Similarly, `MERGE` also has an `ON MATCH` sub-clause that only executes when the `MATCH` phase is triggered."
   ]
  },
  {
   "cell_type": "code",
   "execution_count": 31,
   "metadata": {
    "vscode": {
     "languageId": "polyglot-notebook"
    }
   },
   "outputs": [
    {
     "data": {
      "text/html": [
       "<table><thead><tr><th><i>index</i></th><th>value</th></tr></thead><tbody><tr><td>0</td><td><details class=\"dni-treeview\"><summary><span class=\"dni-code-hint\"><code>[ [a, Neo4j.Driver.Internal.Types.Node] ]</code></span></summary><div><table><thead><tr></tr></thead><tbody><tr><td>Keys</td><td><div class=\"dni-plaintext\"><pre>[ a ]</pre></div></td></tr><tr><td>Values</td><td><details class=\"dni-treeview\"><summary><span class=\"dni-code-hint\"><code>[ [a, Neo4j.Driver.Internal.Types.Node] ]</code></span></summary><div><table><thead><tr></tr></thead><tbody><tr><td>Keys</td><td><div class=\"dni-plaintext\"><pre>[ a ]</pre></div></td></tr><tr><td>Values</td><td><details class=\"dni-treeview\"><summary><span class=\"dni-code-hint\"><code>[ [a, Neo4j.Driver.Internal.Types.Node] ]</code></span></summary><div><table><thead><tr></tr></thead><tbody><tr><td>Keys</td><td><div class=\"dni-plaintext\"><pre>[ a ]</pre></div></td></tr><tr><td>Values</td><td><details class=\"dni-treeview\"><summary><span class=\"dni-code-hint\"><code>[ [a, Neo4j.Driver.Internal.Types.Node] ]</code></span></summary><div><table><thead><tr></tr></thead><tbody><tr><td>Keys</td><td><div class=\"dni-plaintext\"><pre>[ a ]</pre></div></td></tr><tr><td>Values</td><td><details class=\"dni-treeview\"><summary><span class=\"dni-code-hint\"><code>[ [a, Neo4j.Driver.Internal.Types.Node] ]</code></span></summary><div><table><thead><tr></tr></thead><tbody><tr><td>Keys</td><td>[ a ]</td></tr><tr><td>Values</td><td>[ [a, Neo4j.Driver.Internal.Types.Node] ]</td></tr><tr><td><i>(values)</i></td><td><table><thead><tr><th><i>index</i></th><th>value</th></tr></thead><tbody><tr><td>0</td><td>[a, Neo4j.Driver.Internal.Types.Node]</td></tr></tbody></table></td></tr></tbody></table></div></details></td></tr><tr><td><i>(values)</i></td><td><table><thead><tr><th><i>index</i></th><th>value</th></tr></thead><tbody><tr><td>0</td><td><details class=\"dni-treeview\"><summary><span class=\"dni-code-hint\"><code>[a, Neo4j.Driver.Internal.Types.Node]</code></span></summary><div><table><thead><tr></tr></thead><tbody><tr><td>Key</td><td>a</td></tr><tr><td>Value</td><td>Neo4j.Driver.Internal.Types.Node</td></tr></tbody></table></div></details></td></tr></tbody></table></td></tr></tbody></table></div></details></td></tr><tr><td><i>(values)</i></td><td><table><thead><tr><th><i>index</i></th><th>value</th></tr></thead><tbody><tr><td>0</td><td><details class=\"dni-treeview\"><summary><span class=\"dni-code-hint\"><code>[a, Neo4j.Driver.Internal.Types.Node]</code></span></summary><div><table><thead><tr></tr></thead><tbody><tr><td>Key</td><td><div class=\"dni-plaintext\"><pre>a</pre></div></td></tr><tr><td>Value</td><td><details class=\"dni-treeview\"><summary><span class=\"dni-code-hint\"><code>Neo4j.Driver.Internal.Types.Node</code></span></summary><div><table><thead><tr></tr></thead><tbody><tr><td>Id</td><td>6</td></tr><tr><td>ElementId</td><td>4:9b52f2f1-e63c-44a2-9183-eef64f1743e9:6</td></tr><tr><td>Labels</td><td>[ Person ]</td></tr><tr><td>Properties</td><td>[ [createdAt, 2024-04-29T13:10:14.922000000Z], [name, Nigel], [lastRead, 2024-04-29T13:11:56.013000000Z] ]</td></tr></tbody></table></div></details></td></tr></tbody></table></div></details></td></tr></tbody></table></td></tr></tbody></table></div></details></td></tr><tr><td><i>(values)</i></td><td><table><thead><tr><th><i>index</i></th><th>value</th></tr></thead><tbody><tr><td>0</td><td><details class=\"dni-treeview\"><summary><span class=\"dni-code-hint\"><code>[a, Neo4j.Driver.Internal.Types.Node]</code></span></summary><div><table><thead><tr></tr></thead><tbody><tr><td>Key</td><td><div class=\"dni-plaintext\"><pre>a</pre></div></td></tr><tr><td>Value</td><td><details class=\"dni-treeview\"><summary><span class=\"dni-code-hint\"><code>Neo4j.Driver.Internal.Types.Node</code></span></summary><div><table><thead><tr></tr></thead><tbody><tr><td>Id</td><td><div class=\"dni-plaintext\"><pre>6</pre></div></td></tr><tr><td>ElementId</td><td><div class=\"dni-plaintext\"><pre>4:9b52f2f1-e63c-44a2-9183-eef64f1743e9:6</pre></div></td></tr><tr><td>Labels</td><td><div class=\"dni-plaintext\"><pre>[ Person ]</pre></div></td></tr><tr><td>Properties</td><td><table><thead><tr><th><i>key</i></th><th><i>type</i></th><th>value</th></tr></thead><tbody><tr><td><div class=\"dni-plaintext\"><pre>createdAt</pre></div></td><td>Neo4j.Driver.ZonedDateTime</td><td>2024-04-29T13:10:14.922000000Z</td></tr><tr><td><div class=\"dni-plaintext\"><pre>name</pre></div></td><td>System.String</td><td><div class=\"dni-plaintext\"><pre>Nigel</pre></div></td></tr><tr><td><div class=\"dni-plaintext\"><pre>lastRead</pre></div></td><td>Neo4j.Driver.ZonedDateTime</td><td>2024-04-29T13:11:56.013000000Z</td></tr></tbody></table></td></tr></tbody></table></div></details></td></tr></tbody></table></div></details></td></tr></tbody></table></td></tr></tbody></table></div></details></td></tr><tr><td><i>(values)</i></td><td><table><thead><tr><th><i>index</i></th><th>value</th></tr></thead><tbody><tr><td>0</td><td><details class=\"dni-treeview\"><summary><span class=\"dni-code-hint\"><code>[a, Neo4j.Driver.Internal.Types.Node]</code></span></summary><div><table><thead><tr></tr></thead><tbody><tr><td>Key</td><td><div class=\"dni-plaintext\"><pre>a</pre></div></td></tr><tr><td>Value</td><td><details class=\"dni-treeview\"><summary><span class=\"dni-code-hint\"><code>Neo4j.Driver.Internal.Types.Node</code></span></summary><div><table><thead><tr></tr></thead><tbody><tr><td>Id</td><td><div class=\"dni-plaintext\"><pre>6</pre></div></td></tr><tr><td>ElementId</td><td><div class=\"dni-plaintext\"><pre>4:9b52f2f1-e63c-44a2-9183-eef64f1743e9:6</pre></div></td></tr><tr><td>Labels</td><td><div class=\"dni-plaintext\"><pre>[ Person ]</pre></div></td></tr><tr><td>Properties</td><td><table><thead><tr><th><i>key</i></th><th><i>type</i></th><th>value</th></tr></thead><tbody><tr><td><div class=\"dni-plaintext\"><pre>createdAt</pre></div></td><td>Neo4j.Driver.ZonedDateTime</td><td><details class=\"dni-treeview\"><summary><span class=\"dni-code-hint\"><code>2024-04-29T13:10:14.922000000Z</code></span></summary><div><table><thead><tr></tr></thead><tbody><tr><td>UnknownZoneInfo</td><td>False</td></tr><tr><td>Reason</td><td>None</td></tr><tr><td>Ambiguous</td><td>False</td></tr><tr><td>UtcSeconds</td><td>1714396214</td></tr><tr><td>EpochTicks</td><td>17143962149220000</td></tr><tr><td>Zone</td><td>Z</td></tr><tr><td>LocalDateTime</td><td>4/29/2024 1:10:14 PM</td></tr><tr><td>UtcDateTime</td><td>4/29/2024 1:10:14 PM</td></tr><tr><td>OffsetSeconds</td><td>0</td></tr><tr><td>Year</td><td>2024</td></tr><tr><td>Month</td><td>4</td></tr><tr><td>Day</td><td>29</td></tr><tr><td>Hour</td><td>13</td></tr><tr><td>Minute</td><td>10</td></tr><tr><td>Second</td><td>14</td></tr><tr><td>Nanosecond</td><td>922000000</td></tr></tbody></table></div></details></td></tr><tr><td><div class=\"dni-plaintext\"><pre>name</pre></div></td><td><span><a href=\"https://docs.microsoft.com/dotnet/api/system.string?view=net-7.0\">System.String</a></span></td><td><div class=\"dni-plaintext\"><pre>Nigel</pre></div></td></tr><tr><td><div class=\"dni-plaintext\"><pre>lastRead</pre></div></td><td>Neo4j.Driver.ZonedDateTime</td><td><details class=\"dni-treeview\"><summary><span class=\"dni-code-hint\"><code>2024-04-29T13:11:56.013000000Z</code></span></summary><div><table><thead><tr></tr></thead><tbody><tr><td>UnknownZoneInfo</td><td>False</td></tr><tr><td>Reason</td><td>None</td></tr><tr><td>Ambiguous</td><td>False</td></tr><tr><td>UtcSeconds</td><td>1714396316</td></tr><tr><td>EpochTicks</td><td>17143963160130000</td></tr><tr><td>Zone</td><td>Z</td></tr><tr><td>LocalDateTime</td><td>4/29/2024 1:11:56 PM</td></tr><tr><td>UtcDateTime</td><td>4/29/2024 1:11:56 PM</td></tr><tr><td>OffsetSeconds</td><td>0</td></tr><tr><td>Year</td><td>2024</td></tr><tr><td>Month</td><td>4</td></tr><tr><td>Day</td><td>29</td></tr><tr><td>Hour</td><td>13</td></tr><tr><td>Minute</td><td>11</td></tr><tr><td>Second</td><td>56</td></tr><tr><td>Nanosecond</td><td>13000000</td></tr></tbody></table></div></details></td></tr></tbody></table></td></tr></tbody></table></div></details></td></tr></tbody></table></div></details></td></tr></tbody></table></td></tr></tbody></table></div></details></td></tr></tbody></table><style>\r\n",
       ".dni-code-hint {\r\n",
       "    font-style: italic;\r\n",
       "    overflow: hidden;\r\n",
       "    white-space: nowrap;\r\n",
       "}\r\n",
       ".dni-treeview {\r\n",
       "    white-space: nowrap;\r\n",
       "}\r\n",
       ".dni-treeview td {\r\n",
       "    vertical-align: top;\r\n",
       "    text-align: start;\r\n",
       "}\r\n",
       "details.dni-treeview {\r\n",
       "    padding-left: 1em;\r\n",
       "}\r\n",
       "table td {\r\n",
       "    text-align: start;\r\n",
       "}\r\n",
       "table tr { \r\n",
       "    vertical-align: top; \r\n",
       "    margin: 0em 0px;\r\n",
       "}\r\n",
       "table tr td pre \r\n",
       "{ \r\n",
       "    vertical-align: top !important; \r\n",
       "    margin: 0em 0px !important;\r\n",
       "} \r\n",
       "table th {\r\n",
       "    text-align: start;\r\n",
       "}\r\n",
       "</style>"
      ]
     },
     "metadata": {},
     "output_type": "display_data"
    }
   ],
   "source": [
    "driver.ExecutableQuery(\"\"\"\n",
    "  MERGE (a:Person {name:'Nigel'}) \n",
    "  ON MATCH SET a.lastRead = datetime()\n",
    "  RETURN a\n",
    "  \"\"\"\n",
    ").ExecuteAsync().Result.Result"
   ]
  },
  {
   "cell_type": "code",
   "execution_count": null,
   "metadata": {
    "vscode": {
     "languageId": "polyglot-notebook"
    }
   },
   "outputs": [],
   "source": []
  }
 ],
 "metadata": {
  "language_info": {
   "name": "python"
  }
 },
 "nbformat": 4,
 "nbformat_minor": 2
}
