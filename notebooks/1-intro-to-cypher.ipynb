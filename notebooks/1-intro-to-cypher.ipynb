{
 "cells": [
  {
   "cell_type": "code",
   "execution_count": null,
   "metadata": {
    "dotnet_interactive": {
     "language": "csharp"
    },
    "polyglot_notebook": {
     "kernelName": "csharp"
    },
    "vscode": {
     "languageId": "polyglot-notebook"
    }
   },
   "outputs": [],
   "source": [
    "#r \"nuget: Microsoft.Extensions.Configuration\"\n",
    "#r \"nuget: Microsoft.Extensions.Configuration.Json\"\n",
    "#r \"nuget: Neo4j.Driver\"\n",
    "\n",
    "using Neo4j.Driver;\n",
    "using System.Text.Json;\n"
   ]
  },
  {
   "cell_type": "code",
   "execution_count": null,
   "metadata": {
    "dotnet_interactive": {
     "language": "csharp"
    },
    "polyglot_notebook": {
     "kernelName": "csharp"
    },
    "vscode": {
     "languageId": "polyglot-notebook"
    }
   },
   "outputs": [],
   "source": [
    "#!import config/Config.cs"
   ]
  },
  {
   "cell_type": "code",
   "execution_count": null,
   "metadata": {
    "dotnet_interactive": {
     "language": "csharp"
    },
    "polyglot_notebook": {
     "kernelName": "csharp"
    },
    "vscode": {
     "languageId": "polyglot-notebook"
    }
   },
   "outputs": [],
   "source": [
    "Console.WriteLine($\"Neo4j Uri {Config.Neo4jUri}\");\n",
    "Console.WriteLine($\"Neo4j User {Config.Neo4jUser}\");\n",
    "Console.WriteLine($\"Neo4j Password {Config.Neo4jPassword}\");"
   ]
  },
  {
   "cell_type": "code",
   "execution_count": null,
   "metadata": {
    "dotnet_interactive": {
     "language": "csharp"
    },
    "polyglot_notebook": {
     "kernelName": "csharp"
    },
    "vscode": {
     "languageId": "polyglot-notebook"
    }
   },
   "outputs": [],
   "source": [
    "var driver = GraphDatabase.Driver(Config.Neo4jUri, AuthTokens.Basic(Config.Neo4jUser, Config.Neo4jPassword));\n",
    "await driver.VerifyConnectivityAsync();"
   ]
  },
  {
   "cell_type": "markdown",
   "metadata": {},
   "source": [
    "## Working with Cypher Results"
   ]
  },
  {
   "cell_type": "markdown",
   "metadata": {},
   "source": [
    "### hello world!\n",
    "\n",
    "The simplest Cypher query is a `RETURN` clause that returns a string literal. This query returns the string \"Hello, World!\".\n",
    "\n",
    "Notice that the `Result` below contains two parts:\n",
    "\n",
    "1. `Result` showing the data returned by the query.\n",
    "2. `Summary` showing information about the query execution."
   ]
  },
  {
   "cell_type": "code",
   "execution_count": null,
   "metadata": {
    "dotnet_interactive": {
     "language": "csharp"
    },
    "polyglot_notebook": {
     "kernelName": "csharp"
    },
    "vscode": {
     "languageId": "polyglot-notebook"
    }
   },
   "outputs": [],
   "source": [
    "driver.ExecutableQuery(\"RETURN 'hello world' as message\").ExecuteAsync().Result"
   ]
  },
  {
   "cell_type": "markdown",
   "metadata": {},
   "source": [
    "### Get specific result value\n",
    "\n",
    "The `Result.Result` is a list of IRecord objects. Each IRecord object contains a list of key-value pairs. You can access the value of a specific key by using either:\n",
    "\n",
    "1. `<T>Get(string key)` to cast the value to a specific type.\n",
    "2. `<T>As<T>(string key)` to cast the value to a specific type."
   ]
  },
  {
   "cell_type": "code",
   "execution_count": null,
   "metadata": {
    "dotnet_interactive": {
     "language": "csharp"
    },
    "polyglot_notebook": {
     "kernelName": "csharp"
    },
    "vscode": {
     "languageId": "polyglot-notebook"
    }
   },
   "outputs": [],
   "source": [
    "var gotMessage = driver.ExecutableQuery(\"RETURN 'hello world' as message\").ExecuteAsync().Result.Result[0].Get<string>(\"message\");\n",
    "var gotField = driver.ExecutableQuery(\"RETURN 'hello world' as message\").ExecuteAsync().Result.Result[0][\"message\"];\n",
    "var gotFieldAs = driver.ExecutableQuery(\"RETURN 'hello world' as message\").ExecuteAsync().Result.Result[0][\"message\"].As<string>();\n",
    "\n",
    "Console.WriteLine($\"Got message: {gotMessage}\");\n",
    "Console.WriteLine($\"Got field: {gotField}\");\n",
    "Console.WriteLine($\"Got field as: {gotFieldAs}\");"
   ]
  },
  {
   "cell_type": "markdown",
   "metadata": {},
   "source": [
    "### map each result row\n",
    "\n",
    "Add `WithMap()` to apply a map function to each result row. \n",
    "\n",
    "Here, we're converting each row from a record to a simple string..."
   ]
  },
  {
   "cell_type": "code",
   "execution_count": null,
   "metadata": {
    "dotnet_interactive": {
     "language": "csharp"
    },
    "polyglot_notebook": {
     "kernelName": "csharp"
    },
    "vscode": {
     "languageId": "polyglot-notebook"
    }
   },
   "outputs": [],
   "source": [
    "driver.ExecutableQuery(\"RETURN 'hello world' as message\")\n",
    "  .WithMap(row => row[\"message\"].As<string>())\n",
    "  .ExecuteAsync().Result.Result[0]"
   ]
  },
  {
   "cell_type": "markdown",
   "metadata": {},
   "source": [
    "## Create data"
   ]
  },
  {
   "cell_type": "markdown",
   "metadata": {},
   "source": [
    "### Create a Node\n",
    "\n",
    "As graph query language, Cypher works with patterns of data. Patterns are used to create and find data.\n",
    "\n",
    "The simplest pattern is a single \"node\", which is what data records are called in a graph database.\n",
    "\n",
    "The following query creates a single node, assigning the variable `a` to that node and returning the `a` node."
   ]
  },
  {
   "cell_type": "code",
   "execution_count": null,
   "metadata": {
    "dotnet_interactive": {
     "language": "csharp"
    },
    "polyglot_notebook": {
     "kernelName": "csharp"
    },
    "vscode": {
     "languageId": "polyglot-notebook"
    }
   },
   "outputs": [],
   "source": [
    "driver.ExecutableQuery(\"CREATE (a) RETURN a\").ExecuteAsync().Result.Result"
   ]
  },
  {
   "cell_type": "markdown",
   "metadata": {},
   "source": [
    "### Create a Node with a Label\n",
    "\n",
    "Nodes can belong to one or more sets identified by \"label\". You can set a label when creating a node using the\n",
    "notation `(:NameOfLabel)`.\n",
    "\n",
    "For example, the following query creates a node with the label `Person`."
   ]
  },
  {
   "cell_type": "code",
   "execution_count": null,
   "metadata": {
    "dotnet_interactive": {
     "language": "csharp"
    },
    "polyglot_notebook": {
     "kernelName": "csharp"
    },
    "vscode": {
     "languageId": "polyglot-notebook"
    }
   },
   "outputs": [],
   "source": [
    "driver.ExecutableQuery(\"CREATE (a:Person) RETURN a\").ExecuteAsync().Result.Result"
   ]
  },
  {
   "cell_type": "markdown",
   "metadata": {},
   "source": [
    "### Create a Node with Properties\n",
    "\n",
    "As data records, nodes can also carry properties. Properties are key-value pairs.\n",
    "\n",
    "The following query creates a node with the label `Person` and two properties: `name` and `height`."
   ]
  },
  {
   "cell_type": "code",
   "execution_count": null,
   "metadata": {
    "dotnet_interactive": {
     "language": "csharp"
    },
    "polyglot_notebook": {
     "kernelName": "csharp"
    },
    "vscode": {
     "languageId": "polyglot-notebook"
    }
   },
   "outputs": [],
   "source": [
    "driver.ExecutableQuery(\"CREATE (a:Person {name:'Andreas', height: 186}) RETURN a\").ExecuteAsync().Result.Result"
   ]
  },
  {
   "cell_type": "markdown",
   "metadata": {},
   "source": [
    "## Find data\n",
    "\n",
    "Finding or reading data also uses patterns. You can use similar single-node patterns."
   ]
  },
  {
   "cell_type": "markdown",
   "metadata": {},
   "source": [
    "### Find all Nodes\n",
    "\n",
    "The following query finds all nodes in the graph by using the `MATCH` clause with a single node pattern.\n",
    "\n",
    "Like `CREATE`, the `MATCH` clause binds variables within a pattern which can be used for selecting results.\n",
    "\n",
    "Here, the `all` variable will match any node within the graph, producing as many result rows as there are nodes. For larger graphs, this is probably a bad idea."
   ]
  },
  {
   "cell_type": "code",
   "execution_count": null,
   "metadata": {
    "dotnet_interactive": {
     "language": "csharp"
    },
    "polyglot_notebook": {
     "kernelName": "csharp"
    },
    "vscode": {
     "languageId": "polyglot-notebook"
    }
   },
   "outputs": [],
   "source": [
    "driver.ExecutableQuery(\"MATCH (all) RETURN all\").ExecuteAsync().Result.Result"
   ]
  },
  {
   "cell_type": "markdown",
   "metadata": {},
   "source": [
    "### Find Nodes with a Label\n",
    "\n",
    "You can filter nodes by label by adding the label to the node pattern."
   ]
  },
  {
   "cell_type": "code",
   "execution_count": null,
   "metadata": {
    "dotnet_interactive": {
     "language": "csharp"
    },
    "polyglot_notebook": {
     "kernelName": "csharp"
    },
    "vscode": {
     "languageId": "polyglot-notebook"
    }
   },
   "outputs": [],
   "source": [
    "driver.ExecutableQuery(\"MATCH (p:Person) RETURN p\").ExecuteAsync().Result.Result"
   ]
  },
  {
   "cell_type": "markdown",
   "metadata": {},
   "source": [
    "### Find Nodes with Properties\n",
    "\n",
    "You can filter nodes by properties by adding the property to the node pattern."
   ]
  },
  {
   "cell_type": "code",
   "execution_count": null,
   "metadata": {
    "dotnet_interactive": {
     "language": "csharp"
    },
    "polyglot_notebook": {
     "kernelName": "csharp"
    },
    "vscode": {
     "languageId": "polyglot-notebook"
    }
   },
   "outputs": [],
   "source": [
    "driver.ExecutableQuery(\"MATCH (andreas:Person {name:'Andreas'}) RETURN andreas\").ExecuteAsync().Result.Result"
   ]
  },
  {
   "cell_type": "markdown",
   "metadata": {},
   "source": [
    "### Find Nodes using a `WHERE` clause\n",
    "\n",
    "The `WHERE` clause allows you to filter results based on conditions."
   ]
  },
  {
   "cell_type": "code",
   "execution_count": null,
   "metadata": {
    "dotnet_interactive": {
     "language": "csharp"
    },
    "polyglot_notebook": {
     "kernelName": "csharp"
    },
    "vscode": {
     "languageId": "polyglot-notebook"
    }
   },
   "outputs": [],
   "source": [
    "driver.ExecutableQuery(\"MATCH (a:Person) WHERE a.name STARTS WITH 'A' RETURN a\").ExecuteAsync().Result.Result"
   ]
  },
  {
   "cell_type": "markdown",
   "metadata": {},
   "source": [
    "## Upserting data\n",
    "\n",
    "If you re-run the `CREATE` statements from above, you'll create potentially duplicate data. To avoid this, you can use the `MERGE` clause, which acts like an \"upsert\" (update or insert) operation.\n",
    "\n",
    "`MERGE` happens in two phases:\n",
    "\n",
    "1. `MATCH` phase: The query tries to find a node that matches the pattern\n",
    "2. `CREATE` phase: If no node is found, a new node is created that matches the pattern\n",
    "\n",
    "The matching works with an exact match of the criteria in the pattern. "
   ]
  },
  {
   "cell_type": "code",
   "execution_count": null,
   "metadata": {
    "dotnet_interactive": {
     "language": "csharp"
    },
    "polyglot_notebook": {
     "kernelName": "csharp"
    },
    "vscode": {
     "languageId": "polyglot-notebook"
    }
   },
   "outputs": [],
   "source": [
    "driver.ExecutableQuery(\"MERGE (a:Person {name:'Andreas'}) RETURN a\").ExecuteAsync().Result.Result"
   ]
  },
  {
   "cell_type": "markdown",
   "metadata": {},
   "source": [
    "### Set values on `MERGE`\n",
    "\n",
    "You can use the `SET` clause to set properties on the node found or creating by `MERGE`.  "
   ]
  },
  {
   "cell_type": "code",
   "execution_count": null,
   "metadata": {
    "dotnet_interactive": {
     "language": "csharp"
    },
    "polyglot_notebook": {
     "kernelName": "csharp"
    },
    "vscode": {
     "languageId": "polyglot-notebook"
    }
   },
   "outputs": [],
   "source": [
    "driver.ExecutableQuery(\"\"\"\n",
    "  MERGE (a:Person {name:'Andreas'}) \n",
    "  SET a.height = 190\n",
    "  RETURN a\n",
    "  \"\"\"\n",
    ").ExecuteAsync().Result.Result"
   ]
  },
  {
   "cell_type": "markdown",
   "metadata": {},
   "source": [
    "### Set values on `MERGE` with `ON CREATE`\n",
    "\n",
    "`MERGE` has a special sub-clause that only exectutes when the `CREATE` phase is triggered. This is the `ON CREATE` clause.\n",
    "\n",
    "To conditionally set properties only when a new node is created, use the `ON CREATE` clause.\n",
    "\n",
    "This example uses the built-in `datetime()` function to set the `createdAt` property only when the node is created."
   ]
  },
  {
   "cell_type": "code",
   "execution_count": null,
   "metadata": {
    "dotnet_interactive": {
     "language": "csharp"
    },
    "polyglot_notebook": {
     "kernelName": "csharp"
    },
    "vscode": {
     "languageId": "polyglot-notebook"
    }
   },
   "outputs": [],
   "source": [
    "driver.ExecutableQuery(\"\"\"\n",
    "  MERGE (a:Person {name:'Nigel'}) \n",
    "  ON CREATE SET a.createdAt = datetime()\n",
    "  RETURN a\n",
    "  \"\"\"\n",
    ").ExecuteAsync().Result.Result"
   ]
  },
  {
   "cell_type": "markdown",
   "metadata": {},
   "source": [
    "## Set values on `MERGE` with `ON MATCH`\n",
    "\n",
    "Similarly, `MERGE` also has an `ON MATCH` sub-clause that only executes when the `MATCH` phase is triggered."
   ]
  },
  {
   "cell_type": "code",
   "execution_count": null,
   "metadata": {
    "dotnet_interactive": {
     "language": "csharp"
    },
    "polyglot_notebook": {
     "kernelName": "csharp"
    },
    "vscode": {
     "languageId": "polyglot-notebook"
    }
   },
   "outputs": [],
   "source": [
    "driver.ExecutableQuery(\"\"\"\n",
    "  MERGE (a:Person {name:'Nigel'}) \n",
    "  ON MATCH SET a.lastRead = datetime()\n",
    "  RETURN a\n",
    "  \"\"\"\n",
    ").ExecuteAsync().Result.Result"
   ]
  },
  {
   "cell_type": "code",
   "execution_count": null,
   "metadata": {
    "dotnet_interactive": {
     "language": "csharp"
    },
    "polyglot_notebook": {
     "kernelName": "csharp"
    },
    "vscode": {
     "languageId": "polyglot-notebook"
    }
   },
   "outputs": [],
   "source": []
  }
 ],
 "metadata": {
  "language_info": {
   "name": "python"
  }
 },
 "nbformat": 4,
 "nbformat_minor": 2
}
