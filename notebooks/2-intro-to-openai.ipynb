{
 "cells": [
  {
   "cell_type": "code",
   "execution_count": null,
   "metadata": {
    "dotnet_interactive": {
     "language": "csharp"
    },
    "polyglot_notebook": {
     "kernelName": "csharp"
    },
    "vscode": {
     "languageId": "polyglot-notebook"
    }
   },
   "outputs": [],
   "source": [
    "#r \"nuget: Microsoft.Extensions.Configuration\"\n",
    "#r \"nuget: Microsoft.Extensions.Configuration.Json\"\n",
    "#r \"nuget: Azure.AI.OpenAI,*-*\"\n",
    "#r \"nuget: Azure.Core\"\n",
    "\n",
    "using Azure.AI.OpenAI;\n",
    "using Azure;"
   ]
  },
  {
   "cell_type": "code",
   "execution_count": null,
   "metadata": {
    "dotnet_interactive": {
     "language": "csharp"
    },
    "polyglot_notebook": {
     "kernelName": "csharp"
    },
    "vscode": {
     "languageId": "polyglot-notebook"
    }
   },
   "outputs": [],
   "source": [
    "#!import config/Config.cs"
   ]
  },
  {
   "cell_type": "code",
   "execution_count": null,
   "metadata": {
    "dotnet_interactive": {
     "language": "csharp"
    },
    "polyglot_notebook": {
     "kernelName": "csharp"
    },
    "vscode": {
     "languageId": "polyglot-notebook"
    }
   },
   "outputs": [],
   "source": [
    "Console.WriteLine($\"UseAzureOpenAI? {Config.UseAzureOpenAI}\");\n"
   ]
  },
  {
   "cell_type": "code",
   "execution_count": null,
   "metadata": {
    "dotnet_interactive": {
     "language": "csharp"
    },
    "polyglot_notebook": {
     "kernelName": "csharp"
    },
    "vscode": {
     "languageId": "polyglot-notebook"
    }
   },
   "outputs": [],
   "source": [
    "client = Config.UseAzureOpenAI\n",
    "    ? new OpenAIClient(\n",
    "        new Uri(\"https://your-azure-openai-resource.com/\"),\n",
    "        new AzureKeyCredential(\"your-azure-openai-resource-api-key\"))\n",
    "    : new OpenAIClient(Config.ApiKey);"
   ]
  },
  {
   "cell_type": "code",
   "execution_count": null,
   "metadata": {
    "vscode": {
     "languageId": "polyglot-notebook"
    }
   },
   "outputs": [],
   "source": [
    "var chatCompletionsOptions = new ChatCompletionsOptions()\n",
    "{\n",
    "    DeploymentName = Config.ModelName, // Use DeploymentName for \"model\" with non-Azure clients\n",
    "    Messages =\n",
    "    {\n",
    "        // The system message represents instructions or other guidance about how the assistant should behave\n",
    "        new ChatRequestSystemMessage(\"You are a helpful assistant. You will talk like a pirate.\"),\n",
    "        // User messages represent current or historical input from the end user\n",
    "        new ChatRequestUserMessage(\"Can you help me?\"),\n",
    "        // Assistant messages represent historical responses from the assistant\n",
    "        new ChatRequestAssistantMessage(\"Arrrr! Of course, me hearty! What can I do for ye?\"),\n",
    "        new ChatRequestUserMessage(\"What's the best way to train a parrot?\"),\n",
    "    }\n",
    "};\n",
    "\n",
    "Response<ChatCompletions> response = await client.GetChatCompletionsAsync(chatCompletionsOptions);\n",
    "ChatResponseMessage responseMessage = response.Value.Choices[0].Message;\n",
    "Console.WriteLine($\"[{responseMessage.Role.ToString().ToUpperInvariant()}]: {responseMessage.Content}\");"
   ]
  },
  {
   "cell_type": "markdown",
   "metadata": {},
   "source": [
    "Add the response to the chat completions history..."
   ]
  },
  {
   "cell_type": "code",
   "execution_count": null,
   "metadata": {
    "vscode": {
     "languageId": "polyglot-notebook"
    }
   },
   "outputs": [],
   "source": [
    "chatCompletionsOptions.Messages.Add(new ChatRequestAssistantMessage(responseMessage.Content));\n",
    "chatCompletionsOptions.Messages"
   ]
  },
  {
   "cell_type": "markdown",
   "metadata": {},
   "source": [
    "## Basic Chat"
   ]
  },
  {
   "cell_type": "code",
   "execution_count": null,
   "metadata": {
    "vscode": {
     "languageId": "polyglot-notebook"
    }
   },
   "outputs": [],
   "source": [
    "#!import rag/BasicChat.cs"
   ]
  },
  {
   "cell_type": "code",
   "execution_count": null,
   "metadata": {
    "vscode": {
     "languageId": "polyglot-notebook"
    }
   },
   "outputs": [],
   "source": [
    "var chat = new BasicChat(client, Config.ModelName, \"You are a helpful assistant. You will talk like Yoda\");"
   ]
  },
  {
   "cell_type": "code",
   "execution_count": null,
   "metadata": {
    "vscode": {
     "languageId": "polyglot-notebook"
    }
   },
   "outputs": [],
   "source": [
    "chat.Say(\"Build me a ship!\")"
   ]
  },
  {
   "cell_type": "code",
   "execution_count": null,
   "metadata": {
    "vscode": {
     "languageId": "polyglot-notebook"
    }
   },
   "outputs": [],
   "source": [
    "chat.Say(\"What did I just ask you about?\")"
   ]
  },
  {
   "cell_type": "code",
   "execution_count": null,
   "metadata": {
    "vscode": {
     "languageId": "polyglot-notebook"
    }
   },
   "outputs": [],
   "source": [
    "chat.Say(\"What is a marble?\")"
   ]
  },
  {
   "cell_type": "code",
   "execution_count": null,
   "metadata": {
    "vscode": {
     "languageId": "polyglot-notebook"
    }
   },
   "outputs": [],
   "source": [
    "chat.Say(\"How many marbles are in the box?\")"
   ]
  },
  {
   "cell_type": "code",
   "execution_count": null,
   "metadata": {
    "vscode": {
     "languageId": "polyglot-notebook"
    }
   },
   "outputs": [],
   "source": []
  }
 ],
 "metadata": {
  "language_info": {
   "name": "python"
  }
 },
 "nbformat": 4,
 "nbformat_minor": 2
}
